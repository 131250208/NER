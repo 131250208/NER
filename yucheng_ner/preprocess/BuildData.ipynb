{
 "cells": [
  {
   "cell_type": "code",
   "execution_count": 1,
   "metadata": {},
   "outputs": [],
   "source": [
    "import os\n",
    "import json\n",
    "import re\n",
    "from tqdm import tqdm\n",
    "import copy\n",
    "from ner_common.utils import Preprocessor, WordTokenizer\n",
    "from transformers import BertTokenizerFast\n",
    "import yaml\n",
    "from pprint import pprint\n",
    "import logging"
   ]
  },
  {
   "cell_type": "code",
   "execution_count": 2,
   "metadata": {},
   "outputs": [],
   "source": [
    "try:\n",
    "    from yaml import CLoader as Loader, CDumper as Dumper\n",
    "except ImportError:\n",
    "    from yaml import Loader, Dumper\n",
    "config = yaml.load(open(\"build_data_config.yaml\", \"r\"), Loader = yaml.FullLoader)"
   ]
  },
  {
   "cell_type": "code",
   "execution_count": 3,
   "metadata": {},
   "outputs": [],
   "source": [
    "exp_name = config[\"exp_name\"]\n",
    "data_in_dir = os.path.join(config[\"data_in_dir\"], exp_name)\n",
    "use_bert = config[\"use_bert\"]\n",
    "\n",
    "if use_bert:\n",
    "    bert_path = config[\"bert_path\"]\n",
    "    data_out_dir = os.path.join(\"../data/{}\".format(bert_path.split(\"/\")[-1]), exp_name)\n",
    "else:\n",
    "    data_out_dir = os.path.join(config[\"data_out_dir\"], exp_name)\n",
    "    \n",
    "if not os.path.exists(data_out_dir):\n",
    "    os.makedirs(data_out_dir)"
   ]
  },
  {
   "cell_type": "code",
   "execution_count": 4,
   "metadata": {},
   "outputs": [],
   "source": [
    "# preprocessor\n",
    "if use_bert:\n",
    "    tokenizer4preprocess = BertTokenizerFast.from_pretrained(bert_path, add_special_tokens = False, do_lower_case = False)\n",
    "else:\n",
    "    tokenizer4preprocess = WordTokenizer()\n",
    "\n",
    "preprocessor = Preprocessor(tokenizer4preprocess, use_bert)"
   ]
  },
  {
   "cell_type": "code",
   "execution_count": 5,
   "metadata": {},
   "outputs": [
    {
     "name": "stderr",
     "output_type": "stream",
     "text": [
      "loading data: 100%|██████████| 3/3 [00:12<00:00,  4.10s/it]\n"
     ]
    }
   ],
   "source": [
    "# load data\n",
    "file_name2data = {}\n",
    "for root, dirs, files in os.walk(data_in_dir):\n",
    "    for file_name in tqdm(files, desc = \"loading data\"):\n",
    "        file_path = os.path.join(root, file_name)\n",
    "        data = json.load(open(file_path, \"r\", encoding = \"utf-8\"))\n",
    "        assert len(data) > 0\n",
    "        file_name2data[file_name] = data"
   ]
  },
  {
   "cell_type": "code",
   "execution_count": 6,
   "metadata": {
    "scrolled": true
   },
   "outputs": [
    {
     "name": "stderr",
     "output_type": "stream",
     "text": [
      "Adding token level span: 100%|██████████| 231696/231696 [01:49<00:00, 2109.21it/s]\n",
      "check tok spans: 100%|██████████| 231696/231696 [01:03<00:00, 3635.13it/s]\n",
      "Adding token level span:   2%|▏         | 203/12912 [00:00<00:06, 2029.03it/s]"
     ]
    },
    {
     "name": "stdout",
     "output_type": "stream",
     "text": [
      "train_data.json is output to ../data/bert-base-cased/short_wplice/train_data.json, num: 231696\n"
     ]
    },
    {
     "name": "stderr",
     "output_type": "stream",
     "text": [
      "Adding token level span: 100%|██████████| 12912/12912 [00:05<00:00, 2288.46it/s]\n",
      "check tok spans: 100%|██████████| 12912/12912 [00:03<00:00, 3702.53it/s]\n",
      "Adding token level span:   2%|▏         | 246/12958 [00:00<00:05, 2458.05it/s]"
     ]
    },
    {
     "name": "stdout",
     "output_type": "stream",
     "text": [
      "test_data.json is output to ../data/bert-base-cased/short_wplice/test_data.json, num: 12912\n"
     ]
    },
    {
     "name": "stderr",
     "output_type": "stream",
     "text": [
      "Adding token level span: 100%|██████████| 12958/12958 [00:05<00:00, 2163.58it/s]\n",
      "check tok spans: 100%|██████████| 12958/12958 [00:03<00:00, 3513.62it/s]\n"
     ]
    },
    {
     "name": "stdout",
     "output_type": "stream",
     "text": [
      "valid_data.json is output to ../data/bert-base-cased/short_wplice/valid_data.json, num: 12958\n",
      "{'test_data.json': {'tok_span_error': {'detail': {'gold: 20111 --- extr: '\n",
      "                                                  '220111',\n",
      "                                                  'gold: 30281 --- extr: '\n",
      "                                                  '302812',\n",
      "                                                  'gold: 48334 --- extr: '\n",
      "                                                  '483346',\n",
      "                                                  'gold: Indiana --- extr: '\n",
      "                                                  'Indianapolis',\n",
      "                                                  'gold: North Attleboro --- '\n",
      "                                                  'extr: North Attleborough'},\n",
      "                                       'num': 5}},\n",
      " 'train_data.json': {'tok_span_error': {'detail': {'gold: 02360 --- extr: '\n",
      "                                                   '02360s',\n",
      "                                                   'gold: 11216 --- extr: '\n",
      "                                                   '111216',\n",
      "                                                   'gold: 11706 --- extr: '\n",
      "                                                   '111706',\n",
      "                                                   'gold: 13502 --- extr: '\n",
      "                                                   '135021',\n",
      "                                                   'gold: 14606 --- extr: '\n",
      "                                                   '146064',\n",
      "                                                   'gold: 17603 --- extr: '\n",
      "                                                   '176033',\n",
      "                                                   'gold: 20111 --- extr: '\n",
      "                                                   '220111',\n",
      "                                                   'gold: 28403 --- extr: '\n",
      "                                                   '284037',\n",
      "                                                   'gold: 33762 --- extr: '\n",
      "                                                   '337625',\n",
      "                                                   'gold: 37172 --- extr: '\n",
      "                                                   '371726',\n",
      "                                                   'gold: 45225 --- extr: '\n",
      "                                                   '452251',\n",
      "                                                   'gold: 50801 --- extr: '\n",
      "                                                   '508011',\n",
      "                                                   'gold: 56601 --- extr: '\n",
      "                                                   '566012',\n",
      "                                                   'gold: 74344 --- extr: '\n",
      "                                                   '743447',\n",
      "                                                   'gold: 77070 --- extr: '\n",
      "                                                   '777070',\n",
      "                                                   'gold: 80202 --- extr: '\n",
      "                                                   '802027',\n",
      "                                                   'gold: 84020 --- extr: '\n",
      "                                                   '184020',\n",
      "                                                   'gold: 93534 --- extr: '\n",
      "                                                   '935346',\n",
      "                                                   'gold: 97202 --- extr: '\n",
      "                                                   '972024',\n",
      "                                                   'gold: 99206 --- extr: '\n",
      "                                                   '992065',\n",
      "                                                   'gold: Austin --- extr: '\n",
      "                                                   'AAustin',\n",
      "                                                   'gold: Colorado --- extr: '\n",
      "                                                   'AColorado',\n",
      "                                                   'gold: Indiana --- extr: '\n",
      "                                                   'Indianapolis',\n",
      "                                                   'gold: Louisville --- extr: '\n",
      "                                                   'DLouisville',\n",
      "                                                   'gold: Murrells Inlet --- '\n",
      "                                                   'extr: Murrells Inlets',\n",
      "                                                   'gold: North Attleboro --- '\n",
      "                                                   'extr: North Attleborough',\n",
      "                                                   'gold: Pennsylvania --- '\n",
      "                                                   'extr: SPennsylvania',\n",
      "                                                   'gold: San Diego --- extr: '\n",
      "                                                   'ASan Diego',\n",
      "                                                   'gold: Silver Spring --- '\n",
      "                                                   'extr: Silver Springs',\n",
      "                                                   'gold: Spring --- extr: '\n",
      "                                                   'Springs'},\n",
      "                                        'num': 30}},\n",
      " 'valid_data.json': {'tok_span_error': {'detail': {'gold: Indiana --- extr: '\n",
      "                                                   'Indianapolis'},\n",
      "                                        'num': 1}}}\n"
     ]
    }
   ],
   "source": [
    "# clean, add char span and tok span\n",
    "# calculate recommended visual field\n",
    "# collect tags\n",
    "tags = set()\n",
    "visual_field_rec = 0\n",
    "error_statistics = {}\n",
    "for file_name, data in file_name2data.items():       \n",
    "    if \"data\" in file_name and \"entity_list\" in data[0]: # train or valid\n",
    "        error_statistics[file_name] = {}\n",
    "        # rm redundant whitespaces\n",
    "        # separate by whitespaces\n",
    "        # clean without span\n",
    "        if config[\"clean_wo_span\"]:\n",
    "            data = preprocessor.clean_data_wo_span(data, separate = config[\"separate_char_by_white\"])\n",
    "        \n",
    "        # add char span\n",
    "        if config[\"add_char_span\"]:\n",
    "            data, samples_w_wrong_entity = preprocessor.add_char_span(data, config[\"ignore_subword\"])\n",
    "            error_statistics[file_name][\"samples_w_wrong_entity\"] = {\"num\": len(samples_w_wrong_entity), \"detail\": samples_w_wrong_entity}\n",
    "            \n",
    "        # clean with span\n",
    "        if config[\"clean_w_span\"]:\n",
    "            data, bad_samples = preprocessor.clean_data_w_span(data)\n",
    "            error_statistics[file_name][\"char_span_error\"] = len(bad_samples)\n",
    "        \n",
    "        # add tok span\n",
    "        data = preprocessor.add_tok_span(data)\n",
    "\n",
    "        # visual field & tags\n",
    "        for sample in data:\n",
    "            for ent in sample[\"entity_list\"]:\n",
    "                tokens = preprocessor.tokenize(ent[\"text\"])\n",
    "                visual_field_rec = max(visual_field_rec, len(tokens))\n",
    "                tags.add(ent[\"type\"])\n",
    "            \n",
    "        # check tok span\n",
    "        if config[\"check_tok_span\"]:\n",
    "            tok_span_error_memory = preprocessor.check_tok_span(data)\n",
    "            error_statistics[file_name][\"tok_span_error\"] = {\"num\": len(tok_span_error_memory), \"detail\": tok_span_error_memory}\n",
    "    # output\n",
    "    output_path = os.path.join(data_out_dir, file_name)\n",
    "    json.dump(data, open(output_path, \"w\", encoding = \"utf-8\"), ensure_ascii = False)\n",
    "    print(\"{} is output to {}, num: {}\".format(file_name, output_path, len(data)))\n",
    "pprint(error_statistics)"
   ]
  },
  {
   "cell_type": "code",
   "execution_count": 7,
   "metadata": {},
   "outputs": [],
   "source": [
    "# have a look at tok span error\n",
    "# for file_name, data in file_name2data.items():\n",
    "#     span_error_memory = check_tok_span(data)\n",
    "#     print(span_error_memory)"
   ]
  },
  {
   "cell_type": "markdown",
   "metadata": {},
   "source": [
    "# meta"
   ]
  },
  {
   "cell_type": "code",
   "execution_count": 8,
   "metadata": {},
   "outputs": [
    {
     "name": "stdout",
     "output_type": "stream",
     "text": [
      "meta.json is output to ../data/bert-base-cased/short_wplice/meta.json\n"
     ]
    }
   ],
   "source": [
    "meta = {\n",
    "    \"tags\": sorted(list(tags)),\n",
    "    \"visual_field_rec\": visual_field_rec,\n",
    "}\n",
    "meta_path = os.path.join(data_out_dir, \"meta.json\")\n",
    "json.dump(meta, open(meta_path, \"w\", encoding = \"utf-8\"), ensure_ascii = False)\n",
    "print(\"meta.json is output to {}\".format(meta_path))"
   ]
  },
  {
   "cell_type": "markdown",
   "metadata": {},
   "source": [
    "# Generate word dict and char dict"
   ]
  },
  {
   "cell_type": "code",
   "execution_count": 9,
   "metadata": {},
   "outputs": [
    {
     "name": "stderr",
     "output_type": "stream",
     "text": [
      "Word Tokenizing: 100%|██████████| 257566/257566 [00:11<00:00, 22795.17it/s]\n",
      "Filter uncommon words: 100%|██████████| 432828/432828 [00:00<00:00, 1738454.32it/s]\n"
     ]
    },
    {
     "name": "stdout",
     "output_type": "stream",
     "text": [
      "word2idx is output to ../data/bert-base-cased/short_wplice/word2idx.json, total token num: 35002\n",
      "char2idx is output to ../data/bert-base-cased/short_wplice/char2idx.json, total token num: 3877\n"
     ]
    }
   ],
   "source": [
    "# work only if tok_size > max_tok_size\n",
    "freq_threshold = 3\n",
    "max_tok_size = 35000\n",
    "\n",
    "all_data = []\n",
    "for filename, data in file_name2data.items():\n",
    "    if \"data\" in filename:\n",
    "        all_data.extend(data)\n",
    "\n",
    "char_set = set()\n",
    "word2num = {}\n",
    "\n",
    "word_tokenize = lambda text: text.split(\" \")\n",
    "for sample in tqdm(all_data, desc = \"Word Tokenizing\"):\n",
    "    text = sample['text']\n",
    "    char_set |= set(text)\n",
    "    for tok in word_tokenize(text):\n",
    "        word2num[tok] = word2num.get(tok, 0) + 1\n",
    "\n",
    "word2num_filtered = {}\n",
    "for tok, num in tqdm(word2num.items(), desc = \"Filter uncommon words\"):\n",
    "    if len(word2num) > max_tok_size and num < freq_threshold: # filter words with a frequency of less than freq_threshold\n",
    "        continue\n",
    "    word2num_filtered[tok] = num\n",
    "\n",
    "word2num_tuples = sorted(word2num_filtered.items(), key = lambda it: it[1], reverse = True)[:max_tok_size]\n",
    "filtered_tokens = [tok for tok, num in word2num_tuples]\n",
    "\n",
    "char2idx = {char:idx + 2 for idx, char in enumerate(sorted(char_set))}\n",
    "word2idx = {tok:idx + 2 for idx, tok in enumerate(sorted(filtered_tokens))}\n",
    "word2idx[\"<PAD>\"] = 0\n",
    "word2idx[\"<UNK>\"] = 1\n",
    "char2idx[\"<PAD>\"] = 0\n",
    "char2idx[\"<UNK>\"] = 1\n",
    "#     idx2token = {idx:tok for tok, idx in word2idx.items()}\n",
    "\n",
    "word_dict_path = os.path.join(data_out_dir, \"word2idx.json\")\n",
    "json.dump(word2idx, open(word_dict_path, \"w\", encoding = \"utf-8\"), ensure_ascii = False, indent = 4)\n",
    "print(\"word2idx is output to {}, total token num: {}\".format(word_dict_path, len(word2idx)))\n",
    "\n",
    "char_dict_path = os.path.join(data_out_dir, \"char2idx.json\")\n",
    "json.dump(char2idx, open(char_dict_path, \"w\", encoding = \"utf-8\"), ensure_ascii = False, indent = 4)\n",
    "print(\"char2idx is output to {}, total token num: {}\".format(char_dict_path, len(char2idx)))"
   ]
  }
 ],
 "metadata": {
  "kernelspec": {
   "display_name": "Python 3",
   "language": "python",
   "name": "python3"
  },
  "language_info": {
   "codemirror_mode": {
    "name": "ipython",
    "version": 3
   },
   "file_extension": ".py",
   "mimetype": "text/x-python",
   "name": "python",
   "nbconvert_exporter": "python",
   "pygments_lexer": "ipython3",
   "version": "3.8.3"
  }
 },
 "nbformat": 4,
 "nbformat_minor": 2
}
