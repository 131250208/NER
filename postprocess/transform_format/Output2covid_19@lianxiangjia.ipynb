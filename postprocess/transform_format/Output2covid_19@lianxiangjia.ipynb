{
 "cells": [
  {
   "cell_type": "code",
   "execution_count": 7,
   "metadata": {},
   "outputs": [],
   "source": [
    "import json\n",
    "from tqdm import tqdm\n",
    "import os\n",
    "import re"
   ]
  },
  {
   "cell_type": "code",
   "execution_count": 8,
   "metadata": {},
   "outputs": [],
   "source": [
    "in_file_path = \"/data/yubowen/experiments/nested_ner/results/covid19_lianxiangjia/ensemble/ensemble_res_1.json\"\n",
    "formatted_res_dir = \"/data/yubowen/experiments/nested_ner/results/covid19_lianxiangjia/formatted_res\""
   ]
  },
  {
   "cell_type": "code",
   "execution_count": 9,
   "metadata": {},
   "outputs": [],
   "source": [
    "# transform @specific\n",
    "def transform_data(data):\n",
    "    output_data = []\n",
    "    for sample in tqdm(data, desc = \"Transforming\"):\n",
    "        formatted_sample = {\n",
    "            \"text\": sample[\"text\"],\n",
    "        }\n",
    "        entities = []\n",
    "        for ent in sample[\"entity_list\"]: \n",
    "            entities.append({\n",
    "                \"entity\": ent[\"text\"],\n",
    "                \"type\": ent[\"type\"],\n",
    "                \"start\": ent[\"char_span\"][0],\n",
    "                \"end\": ent[\"char_span\"][1],\n",
    "            })\n",
    "        formatted_sample[\"entities\"] = entities\n",
    "        output_data.append(formatted_sample)\n",
    "    return output_data"
   ]
  },
  {
   "cell_type": "code",
   "execution_count": 10,
   "metadata": {},
   "outputs": [
    {
     "name": "stderr",
     "output_type": "stream",
     "text": [
      "Transforming: 100%|██████████| 4721/4721 [00:00<00:00, 54577.48it/s]\n",
      "output: 100%|██████████| 4721/4721 [00:00<00:00, 18878.13it/s]\n"
     ]
    }
   ],
   "source": [
    "if not os.path.exists(formatted_res_dir):\n",
    "    os.makedirs(formatted_res_dir)\n",
    "ori_data = [json.loads(line) for line in open(in_file_path, \"r\", encoding = \"utf-8\")]\n",
    "\n",
    "in_file_name = in_file_path.split(\"/\")[-1].split(\".\")[0]\n",
    "out_file_path = os.path.join(formatted_res_dir, \"formatted_{}.json\".format(in_file_name))\n",
    "with open(out_file_path, \"w\", encoding = \"utf-8\") as file_out:\n",
    "    for sample in tqdm(transform_data(ori_data), \"output\"):\n",
    "        file_out.write(\"{}\\n\".format(json.dumps(sample, ensure_ascii = False)))"
   ]
  }
 ],
 "metadata": {
  "kernelspec": {
   "display_name": "Python 3",
   "language": "python",
   "name": "python3"
  },
  "language_info": {
   "codemirror_mode": {
    "name": "ipython",
    "version": 3
   },
   "file_extension": ".py",
   "mimetype": "text/x-python",
   "name": "python",
   "nbconvert_exporter": "python",
   "pygments_lexer": "ipython3",
   "version": "3.7.4"
  }
 },
 "nbformat": 4,
 "nbformat_minor": 4
}
