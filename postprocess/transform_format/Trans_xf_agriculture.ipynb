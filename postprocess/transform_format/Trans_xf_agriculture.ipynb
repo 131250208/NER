{
 "cells": [
  {
   "cell_type": "code",
   "execution_count": 1,
   "metadata": {},
   "outputs": [],
   "source": [
    "import json\n",
    "import pandas as pd\n",
    "import os\n",
    "from glob import glob"
   ]
  },
  {
   "cell_type": "code",
   "execution_count": 2,
   "metadata": {
    "scrolled": true
   },
   "outputs": [],
   "source": [
    "in_file_path = \"../../results/xf_agriculture/ensemble/ensemble_res_2.json\"\n",
    "\n",
    "id_list, n_crop_list, n_disease_list, n_medicine_list = [], [], [], []\n",
    "with open(in_file_path, \"r\", encoding = \"utf-8\") as in_file:\n",
    "    for line in in_file:\n",
    "        sample = json.loads(line)\n",
    "        id_ = sample[\"id\"]\n",
    "        n_crops, n_diseases, n_medicines = set(), set(), set()\n",
    "        for ent in sample[\"entity_list\"]:\n",
    "            type_ = ent[\"type\"]\n",
    "            if type_ == \"n_crop\":\n",
    "                n_crops.add(ent[\"text\"])  \n",
    "            elif type_ == \"n_disease\":\n",
    "                n_diseases.add(ent[\"text\"]) \n",
    "            elif type_ == \"n_medicine\":\n",
    "                n_medicines.add(ent[\"text\"]) \n",
    "        id_list.append(id_) \n",
    "        n_crop_list.append(list(n_crops))\n",
    "        n_disease_list.append(list(n_diseases))\n",
    "        n_medicine_list.append(list(n_medicines))\n",
    "\n",
    "df_results = pd.DataFrame({\n",
    "    \"id\": id_list,\n",
    "    \"n_crop\": n_crop_list,\n",
    "    \"n_disease\": n_disease_list,\n",
    "    \"n_medicine\": n_medicine_list,\n",
    "})"
   ]
  },
  {
   "cell_type": "code",
   "execution_count": 3,
   "metadata": {},
   "outputs": [
    {
     "data": {
      "text/html": [
       "<div>\n",
       "<style scoped>\n",
       "    .dataframe tbody tr th:only-of-type {\n",
       "        vertical-align: middle;\n",
       "    }\n",
       "\n",
       "    .dataframe tbody tr th {\n",
       "        vertical-align: top;\n",
       "    }\n",
       "\n",
       "    .dataframe thead th {\n",
       "        text-align: right;\n",
       "    }\n",
       "</style>\n",
       "<table border=\"1\" class=\"dataframe\">\n",
       "  <thead>\n",
       "    <tr style=\"text-align: right;\">\n",
       "      <th></th>\n",
       "      <th>id</th>\n",
       "      <th>n_crop</th>\n",
       "      <th>n_disease</th>\n",
       "      <th>n_medicine</th>\n",
       "    </tr>\n",
       "  </thead>\n",
       "  <tbody>\n",
       "    <tr>\n",
       "      <th>0</th>\n",
       "      <td>1-1</td>\n",
       "      <td>[]</td>\n",
       "      <td>[]</td>\n",
       "      <td>[黄腐酸, 腐酸]</td>\n",
       "    </tr>\n",
       "    <tr>\n",
       "      <th>1</th>\n",
       "      <td>1-2</td>\n",
       "      <td>[]</td>\n",
       "      <td>[根系发育不良]</td>\n",
       "      <td>[微生物菌剂, 甲壳素]</td>\n",
       "    </tr>\n",
       "    <tr>\n",
       "      <th>2</th>\n",
       "      <td>2-1</td>\n",
       "      <td>[]</td>\n",
       "      <td>[]</td>\n",
       "      <td>[钾肥]</td>\n",
       "    </tr>\n",
       "    <tr>\n",
       "      <th>3</th>\n",
       "      <td>2-2</td>\n",
       "      <td>[]</td>\n",
       "      <td>[病毒病]</td>\n",
       "      <td>[宁南霉素, 氨基寡糖素]</td>\n",
       "    </tr>\n",
       "    <tr>\n",
       "      <th>4</th>\n",
       "      <td>3-1</td>\n",
       "      <td>[]</td>\n",
       "      <td>[]</td>\n",
       "      <td>[芸苔素内酯, 生物菌肥]</td>\n",
       "    </tr>\n",
       "  </tbody>\n",
       "</table>\n",
       "</div>"
      ],
      "text/plain": [
       "    id n_crop n_disease     n_medicine\n",
       "0  1-1     []        []      [黄腐酸, 腐酸]\n",
       "1  1-2     []  [根系发育不良]   [微生物菌剂, 甲壳素]\n",
       "2  2-1     []        []           [钾肥]\n",
       "3  2-2     []     [病毒病]  [宁南霉素, 氨基寡糖素]\n",
       "4  3-1     []        []  [芸苔素内酯, 生物菌肥]"
      ]
     },
     "execution_count": 3,
     "metadata": {},
     "output_type": "execute_result"
    }
   ],
   "source": [
    "df_results.head()"
   ]
  },
  {
   "cell_type": "code",
   "execution_count": 4,
   "metadata": {},
   "outputs": [],
   "source": [
    "output_dir = \"./submission\"\n",
    "if not os.path.exists(output_dir):\n",
    "    os.mkdir(output_dir)\n",
    "\n",
    "file_num = len(glob(\"./submission/res*\"))\n",
    "df_results.to_csv(\"./submission/res_{}.csv\".format(file_num), index = False, encoding = \"utf-8\") # utf-8"
   ]
  }
 ],
 "metadata": {
  "kernelspec": {
   "display_name": "Python 3",
   "language": "python",
   "name": "python3"
  },
  "language_info": {
   "codemirror_mode": {
    "name": "ipython",
    "version": 3
   },
   "file_extension": ".py",
   "mimetype": "text/x-python",
   "name": "python",
   "nbconvert_exporter": "python",
   "pygments_lexer": "ipython3",
   "version": "3.7.4"
  }
 },
 "nbformat": 4,
 "nbformat_minor": 4
}
