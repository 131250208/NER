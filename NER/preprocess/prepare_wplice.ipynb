{
 "cells": [
  {
   "cell_type": "code",
   "execution_count": null,
   "metadata": {},
   "outputs": [],
   "source": [
    "import os\n",
    "import json\n",
    "from tqdm import tqdm\n",
    "import copy"
   ]
  },
  {
   "cell_type": "code",
   "execution_count": null,
   "metadata": {},
   "outputs": [],
   "source": [
    "data_path = \"../normal_data/wplice/\"\n",
    "save_path = \"../normal_data/short_wplice/\"\n",
    "train_path = data_path + \"train_data.json\"\n",
    "valid_path = data_path + \"valid_data.json\"\n",
    "test_path = data_path + \"test_data.json\""
   ]
  },
  {
   "cell_type": "code",
   "execution_count": null,
   "metadata": {},
   "outputs": [],
   "source": [
    "train_data = json.load(open(train_path, \"r\", encoding = \"utf-8\"))\n",
    "valid_data = json.load(open(valid_path, \"r\", encoding = \"utf-8\"))\n",
    "test_data = json.load(open(test_path, \"r\", encoding = \"utf-8\"))"
   ]
  },
  {
   "cell_type": "code",
   "execution_count": null,
   "metadata": {},
   "outputs": [],
   "source": [
    "def shorter(data, around = 100, max_char_num = 5000):\n",
    "    new_data = []\n",
    "    for sample in tqdm(data):\n",
    "        start_idx, end_idx = 1 << 31, 0\n",
    "        for ent in sample[\"entity_list\"]:\n",
    "            char_span = ent[\"char_span\"]\n",
    "            start_idx = min(start_idx, char_span[0])\n",
    "            end_idx = max(end_idx, char_span[1])\n",
    "        start_idx = max(start_idx - around, 0)\n",
    "        new_text = sample[\"text\"][start_idx: end_idx + around]\n",
    "        if len(new_text) > max_char_num:\n",
    "            continue\n",
    "        new_sample = copy.deepcopy(sample)\n",
    "        new_sample[\"text\"] = new_text\n",
    "        for ent in new_sample[\"entity_list\"]:\n",
    "            char_span = ent[\"char_span\"]\n",
    "            char_span[0] -= start_idx\n",
    "            char_span[1] -= start_idx\n",
    "            assert new_text[char_span[0]:char_span[1]] == ent[\"text\"]\n",
    "        new_data.append(new_sample)\n",
    "    return new_data"
   ]
  },
  {
   "cell_type": "code",
   "execution_count": null,
   "metadata": {},
   "outputs": [],
   "source": [
    "short_train_data = shorter(train_data, 200, 1000)\n",
    "short_valid_data = shorter(valid_data, 200, 1000)\n",
    "short_test_data = shorter(test_data, 200, 1000)"
   ]
  },
  {
   "cell_type": "code",
   "execution_count": null,
   "metadata": {},
   "outputs": [],
   "source": [
    "# fix id\n",
    "def set_ids(data, data_type):\n",
    "    for idx, sample in enumerate(data):\n",
    "        sample[\"id\"] = \"{}_{}\".format(data_type, idx)"
   ]
  },
  {
   "cell_type": "code",
   "execution_count": null,
   "metadata": {},
   "outputs": [],
   "source": [
    "set_ids(short_train_data, \"train\")\n",
    "set_ids(short_valid_data, \"valid\")\n",
    "set_ids(short_test_data, \"test\")"
   ]
  },
  {
   "cell_type": "code",
   "execution_count": null,
   "metadata": {},
   "outputs": [],
   "source": [
    "if not os.path.exists(save_path):\n",
    "    os.makedirs(save_path)\n",
    "\n",
    "json.dump(short_train_data, open(save_path + \"train_data.json\", \"w\", encoding = \"utf-8\"), ensure_ascii = False)\n",
    "json.dump(short_valid_data, open(save_path + \"valid_data.json\", \"w\", encoding = \"utf-8\"), ensure_ascii = False)\n",
    "json.dump(short_test_data, open(save_path + \"test_data.json\", \"w\", encoding = \"utf-8\"), ensure_ascii = False)"
   ]
  }
 ],
 "metadata": {
  "kernelspec": {
   "display_name": "Python 3",
   "language": "python",
   "name": "python3"
  },
  "language_info": {
   "codemirror_mode": {
    "name": "ipython",
    "version": 3
   },
   "file_extension": ".py",
   "mimetype": "text/x-python",
   "name": "python",
   "nbconvert_exporter": "python",
   "pygments_lexer": "ipython3",
   "version": "3.8.3"
  }
 },
 "nbformat": 4,
 "nbformat_minor": 4
}
