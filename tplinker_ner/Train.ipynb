{
 "cells": [
  {
   "cell_type": "code",
   "execution_count": 1,
   "metadata": {},
   "outputs": [],
   "source": [
    "from bs4 import BeautifulSoup\n",
    "import os\n",
    "import re\n",
    "import torch\n",
    "import torch.nn as nn\n",
    "import torch.nn.functional as F\n",
    "from torch.utils.data import DataLoader, Dataset\n",
    "import torch.optim as optim\n",
    "from transformers import AutoModel, BertTokenizerFast\n",
    "from IPython.core.debugger import set_trace\n",
    "import copy\n",
    "from tqdm import tqdm\n",
    "import html\n",
    "from pprint import pprint\n",
    "import glob\n",
    "import time\n",
    "from ner_common.utils import Preprocessor\n",
    "from tplinker_ner import (HandshakingTaggingScheme, \n",
    "                          DataMaker, \n",
    "                          TPLinkerNER, \n",
    "                          Metrics)\n",
    "import json\n",
    "import wandb\n",
    "import yaml"
   ]
  },
  {
   "cell_type": "markdown",
   "metadata": {},
   "source": [
    "# Superparameter"
   ]
  },
  {
   "cell_type": "code",
   "execution_count": 2,
   "metadata": {},
   "outputs": [],
   "source": [
    "try:\n",
    "    from yaml import CLoader as Loader, CDumper as Dumper\n",
    "except ImportError:\n",
    "    from yaml import Loader, Dumper\n",
    "config = yaml.load(open(\"train_config.yaml\", \"r\"), Loader = yaml.FullLoader)\n",
    "# hyperparameters\n",
    "hyper_parameters = config[\"hyper_parameters\"]"
   ]
  },
  {
   "cell_type": "code",
   "execution_count": 3,
   "metadata": {},
   "outputs": [],
   "source": [
    "# device\n",
    "os.environ[\"CUDA_VISIBLE_DEVICES\"] = str(config[\"device_num\"])\n",
    "device = torch.device(\"cuda:0\" if torch.cuda.is_available() else \"cpu\")\n",
    "# for reproductivity\n",
    "torch.manual_seed(hyper_parameters[\"seed\"]) # pytorch random seed\n",
    "torch.backends.cudnn.deterministic = True"
   ]
  },
  {
   "cell_type": "code",
   "execution_count": 4,
   "metadata": {},
   "outputs": [],
   "source": [
    "experiment_name = config[\"experiment_name\"]\n",
    "if config[\"wandb\"] == True:\n",
    "    # init wandb\n",
    "    wandb.init(project = experiment_name, \n",
    "               name = config[\"run_name\"],\n",
    "               config = hyper_parameters # Initialize config\n",
    "              )\n",
    "\n",
    "    wandb.config.note = config[\"note\"]          \n",
    "\n",
    "    model_state_dict_dir = wandb.run.dir\n",
    "    logger = wandb\n",
    "else:\n",
    "    model_state_dict_dir = os.path.join(config[\"path_to_save_model\"], experiment_name)\n",
    "    if not os.path.exists(model_state_dict_dir):\n",
    "        os.makedirs(model_state_dict_dir)"
   ]
  },
  {
   "cell_type": "code",
   "execution_count": 5,
   "metadata": {},
   "outputs": [],
   "source": [
    "max_seq_len = hyper_parameters[\"max_seq_len\"]\n",
    "pred_max_seq_len = hyper_parameters[\"pred_max_seq_len\"]\n",
    "batch_size = hyper_parameters[\"batch_size\"]\n",
    "epoch_num = hyper_parameters[\"epochs\"]\n",
    "visual_field = hyper_parameters[\"visual_field\"]\n",
    "model_path = config[\"bert_path\"]\n",
    "init_learning_rate = float(hyper_parameters[\"lr\"])\n",
    "\n",
    "data_home = config[\"data_home\"]\n",
    "train_data_path = os.path.join(data_home, experiment_name, config[\"train_data\"])\n",
    "valid_data_path = os.path.join(data_home, experiment_name, config[\"valid_data\"])\n",
    "meta_path = os.path.join(data_home, experiment_name, config[\"meta\"])"
   ]
  },
  {
   "cell_type": "markdown",
   "metadata": {},
   "source": [
    "# Load Data"
   ]
  },
  {
   "cell_type": "code",
   "execution_count": 6,
   "metadata": {},
   "outputs": [],
   "source": [
    "train_data = json.load(open(train_data_path, \"r\", encoding = \"utf-8\"))\n",
    "valid_data = json.load(open(valid_data_path, \"r\", encoding = \"utf-8\"))"
   ]
  },
  {
   "cell_type": "markdown",
   "metadata": {},
   "source": [
    "# Split"
   ]
  },
  {
   "cell_type": "code",
   "execution_count": 7,
   "metadata": {},
   "outputs": [],
   "source": [
    "tokenizer = BertTokenizerFast.from_pretrained(model_path, add_special_tokens = False, do_lower_case = False)\n",
    "def get_tok2char_span_map(text):\n",
    "    tok2char_span = tokenizer.encode_plus(text, \n",
    "                                           return_offsets_mapping = True, \n",
    "                                           add_special_tokens = False)[\"offset_mapping\"]\n",
    "    return tok2char_span\n",
    "\n",
    "tokenize = lambda text: tokenizer.tokenize(text)\n",
    "\n",
    "# preprocessor\n",
    "preprocessor = Preprocessor(tokenize, get_tok2char_span_map)"
   ]
  },
  {
   "cell_type": "code",
   "execution_count": 8,
   "metadata": {},
   "outputs": [
    {
     "name": "stderr",
     "output_type": "stream",
     "text": [
      "Splitting: 100%|██████████| 7743/7743 [00:14<00:00, 538.32it/s]\n"
     ]
    }
   ],
   "source": [
    "# split into short articles\n",
    "short_train_data = preprocessor.split_into_short_samples(train_data, \n",
    "                                                          max_seq_len, \n",
    "                                                          sliding_len = hyper_parameters[\"sliding_len\"])"
   ]
  },
  {
   "cell_type": "code",
   "execution_count": 9,
   "metadata": {},
   "outputs": [
    {
     "name": "stderr",
     "output_type": "stream",
     "text": [
      "100%|██████████| 1936/1936 [00:01<00:00, 1424.47it/s]\n"
     ]
    },
    {
     "data": {
      "text/plain": [
       "907"
      ]
     },
     "execution_count": 9,
     "metadata": {},
     "output_type": "execute_result"
    }
   ],
   "source": [
    "max_tok_num_valid = 0\n",
    "for sample in tqdm(valid_data):\n",
    "    text = sample[\"text\"]\n",
    "    tokens = tokenizer.tokenize(text)\n",
    "    max_tok_num_valid = max(max_tok_num_valid, len(tokens))\n",
    "max_tok_num_valid"
   ]
  },
  {
   "cell_type": "code",
   "execution_count": 10,
   "metadata": {},
   "outputs": [
    {
     "name": "stderr",
     "output_type": "stream",
     "text": [
      "Splitting: 100%|██████████| 1936/1936 [00:03<00:00, 509.46it/s]\n"
     ]
    }
   ],
   "source": [
    "if max_tok_num_valid > pred_max_seq_len:\n",
    "    short_valid_data = preprocessor.split_into_short_samples(valid_data, \n",
    "                                                              pred_max_seq_len, \n",
    "                                                              sliding_len = hyper_parameters[\"sliding_len\"])"
   ]
  },
  {
   "cell_type": "code",
   "execution_count": 11,
   "metadata": {},
   "outputs": [],
   "source": [
    "# # check tok spans of new short article dict list\n",
    "# for art_dict in tqdm(short_train_data + short_valid_data):\n",
    "#     text = art_dict[\"text\"]\n",
    "#     tok2char_span = get_tok2char_span_map(text)\n",
    "#     for term in art_dict[\"entity_list\"]:        \n",
    "#         # # voc 里必须加两个token：hypo, mineralo\n",
    "#         tok_span = term[\"tok_span\"]\n",
    "#         char_span_list = tok2char_span[tok_span[0]:tok_span[1]]\n",
    "#         pred_text = text[char_span_list[0][0]:char_span_list[-1][1]]\n",
    "#         assert pred_text == term[\"text\"]"
   ]
  },
  {
   "cell_type": "markdown",
   "metadata": {},
   "source": [
    "# Tagging"
   ]
  },
  {
   "cell_type": "code",
   "execution_count": 12,
   "metadata": {},
   "outputs": [
    {
     "name": "stdout",
     "output_type": "stream",
     "text": [
      "Recommended visual_field is greater than current visual_field, reset to rec val: 26\n"
     ]
    }
   ],
   "source": [
    "meta = json.load(open(meta_path, \"r\", encoding = \"utf-8\"))\n",
    "tags = meta[\"tags\"]\n",
    "if meta[\"visual_field_rec\"] > visual_field:\n",
    "    visual_field = meta[\"visual_field_rec\"]\n",
    "    print(\"Recommended visual_field is greater than current visual_field, reset to rec val: {}\".format(visual_field))"
   ]
  },
  {
   "cell_type": "code",
   "execution_count": 13,
   "metadata": {},
   "outputs": [],
   "source": [
    "def sample_equal_to(sample1, sample2):\n",
    "    assert sample1[\"id\"] == sample2[\"id\"] and sample1[\"text\"] == sample2[\"text\"]\n",
    "    \n",
    "    entity_list1, entity_list2 = sample1[\"entity_list\"], sample2[\"entity_list\"]\n",
    "    memory_set = set()\n",
    "    for term in entity_list2:\n",
    "        memory_set.add(\"{},{},{}\".format(term[\"tok_span\"][0], term[\"tok_span\"][1], term[\"type\"]))\n",
    "    for term in entity_list1:\n",
    "        memory = \"{},{},{}\".format(term[\"tok_span\"][0], term[\"tok_span\"][1], term[\"type\"])\n",
    "        if memory not in memory_set:\n",
    "            set_trace()\n",
    "            return False\n",
    "    return True"
   ]
  },
  {
   "cell_type": "code",
   "execution_count": 14,
   "metadata": {},
   "outputs": [],
   "source": [
    "handshaking_tagger = HandshakingTaggingScheme(tags, max_seq_len, visual_field)"
   ]
  },
  {
   "cell_type": "code",
   "execution_count": 15,
   "metadata": {},
   "outputs": [],
   "source": [
    "# # check tagging and decoding\n",
    "# data4check = short_train_data + short_valid_data\n",
    "# for idx in tqdm(range(0, len(data4check), batch_size)):\n",
    "#     batch_matrix_spots = []\n",
    "#     batch_data = data4check[idx:idx + batch_size]\n",
    "#     for sample in batch_data:\n",
    "#         matrix_spots = handshaking_tagger.get_spots(sample)\n",
    "# #         %timeit shaking_tagger.get_spots(sample)\n",
    "#         batch_matrix_spots.append(matrix_spots)\n",
    "    \n",
    "#     # tagging\n",
    "#     # batch_shaking_tag: (batch_size, shaking_tag, tag_size)\n",
    "#     batch_shaking_tag = handshaking_tagger.spots2shaking_tag4batch(batch_matrix_spots)\n",
    "# #     %timeit shaking_tagger.spots2shaking_tag4batch(batch_matrix_spots) #0.3s\n",
    "    \n",
    "#     for batch_idx in range(len(batch_data)):\n",
    "#         gold_sample = batch_data[batch_idx]\n",
    "#         shaking_tag = batch_shaking_tag[batch_idx]\n",
    "#         # decode\n",
    "#         text = gold_sample[\"text\"]\n",
    "#         tok2char_span = get_tok2char_span_map(text)\n",
    "#         ent_list = handshaking_tagger.decode_ent(text, shaking_tag, tok2char_span)\n",
    "#         pred_sample = {\n",
    "#             \"text\": text,\n",
    "#             \"id\": gold_sample[\"id\"],\n",
    "#             \"entity_list\": ent_list,\n",
    "#         }\n",
    "        \n",
    "#         if not sample_equal_to(pred_sample, gold_sample) or not sample_equal_to(gold_sample, pred_sample):\n",
    "#             set_trace()"
   ]
  },
  {
   "cell_type": "markdown",
   "metadata": {},
   "source": [
    "# Dataset"
   ]
  },
  {
   "cell_type": "code",
   "execution_count": 16,
   "metadata": {},
   "outputs": [],
   "source": [
    "data_maker = DataMaker(handshaking_tagger, tokenizer)\n",
    "handshaking_tagger4valid = HandshakingTaggingScheme(tags, pred_max_seq_len, visual_field)\n",
    "data_maker4valid = DataMaker(handshaking_tagger4valid, tokenizer)"
   ]
  },
  {
   "cell_type": "code",
   "execution_count": 17,
   "metadata": {},
   "outputs": [],
   "source": [
    "class MyDataset(Dataset):\n",
    "    def __init__(self, data):\n",
    "        self.data = data\n",
    "        \n",
    "    def __getitem__(self, index):\n",
    "        return self.data[index]\n",
    "    \n",
    "    def __len__(self):\n",
    "        return len(self.data)"
   ]
  },
  {
   "cell_type": "code",
   "execution_count": 18,
   "metadata": {},
   "outputs": [
    {
     "name": "stderr",
     "output_type": "stream",
     "text": [
      "Generate indexed data: 100%|██████████| 16235/16235 [00:12<00:00, 1293.73it/s]\n",
      "Generate indexed data: 100%|██████████| 4024/4024 [00:03<00:00, 1298.78it/s]\n"
     ]
    }
   ],
   "source": [
    "indexed_train_sample_list = data_maker.get_indexed_data(short_train_data, max_seq_len)\n",
    "indexed_valid_sample_list = data_maker4valid.get_indexed_data(short_valid_data, pred_max_seq_len)"
   ]
  },
  {
   "cell_type": "code",
   "execution_count": 19,
   "metadata": {},
   "outputs": [],
   "source": [
    "train_dataloader = DataLoader(MyDataset(indexed_train_sample_list), \n",
    "                                  batch_size = batch_size, \n",
    "                                  shuffle = True, \n",
    "                                  num_workers = 6,\n",
    "                                  drop_last = False,\n",
    "                                  collate_fn = data_maker.generate_batch,\n",
    "                                 )\n",
    "valid_dataloader = DataLoader(MyDataset(indexed_valid_sample_list), \n",
    "                          batch_size = batch_size, \n",
    "                          shuffle = False, \n",
    "                          num_workers = 6,\n",
    "                          drop_last = False,\n",
    "                          collate_fn = data_maker4valid.generate_batch,\n",
    "                         )"
   ]
  },
  {
   "cell_type": "code",
   "execution_count": 20,
   "metadata": {},
   "outputs": [],
   "source": [
    "# # have a look at dataloader\n",
    "# train_dataloader, eval_dataloader = get_dataloader_gen(indexed_train_sample_list, indexed_eval_sample_list, 32)\n",
    "\n",
    "# train_data_iter = iter(train_dataloader)\n",
    "# batch_data = next(train_data_iter)\n",
    "# sample_list, batch_input_ids, \\\n",
    "# batch_attention_mask, batch_token_type_ids, \\\n",
    "# tok2char_span_list, batch_shaking_tag = batch_data\n",
    "\n",
    "# print(sample_list[0])\n",
    "# print()\n",
    "# print(tokenizer.decode(batch_input_ids[0].tolist()))\n",
    "# print(batch_input_ids.size())\n",
    "# print(batch_attention_mask.size())\n",
    "# print(batch_token_type_ids.size())\n",
    "# print(len(tok2char_span_list))\n",
    "# print(batch_shaking_tag.size())"
   ]
  },
  {
   "cell_type": "markdown",
   "metadata": {},
   "source": [
    "# Model"
   ]
  },
  {
   "cell_type": "code",
   "execution_count": 21,
   "metadata": {},
   "outputs": [],
   "source": [
    "encoder = AutoModel.from_pretrained(model_path)"
   ]
  },
  {
   "cell_type": "code",
   "execution_count": 22,
   "metadata": {},
   "outputs": [],
   "source": [
    "fake_input = torch.zeros([batch_size, max_seq_len, encoder.config.hidden_size]).to(device)\n",
    "shaking_type = hyper_parameters[\"shaking_type\"]\n",
    "ent_extractor = TPLinkerNER(encoder, len(tags), fake_input, shaking_type, visual_field)\n",
    "ent_extractor = ent_extractor.to(device)"
   ]
  },
  {
   "cell_type": "code",
   "execution_count": 23,
   "metadata": {},
   "outputs": [],
   "source": [
    "metrics = Metrics(handshaking_tagger)\n",
    "metrics4valid = Metrics(handshaking_tagger4valid)"
   ]
  },
  {
   "cell_type": "code",
   "execution_count": 24,
   "metadata": {},
   "outputs": [],
   "source": [
    "# train step\n",
    "def train_step(train_data, optimizer):\n",
    "    ent_extractor.train()\n",
    "    \n",
    "    sample_list, \\\n",
    "    batch_input_ids, batch_attention_mask, batch_token_type_ids, \\\n",
    "    offset_map_list,\\\n",
    "    batch_gold_shaking_tag = train_data\n",
    "    \n",
    "    batch_input_ids, batch_attention_mask, batch_token_type_ids, \\\n",
    "    batch_gold_shaking_tag = (batch_input_ids.to(device), \n",
    "                                  batch_attention_mask.to(device), \n",
    "                                  batch_token_type_ids.to(device), \n",
    "                                  batch_gold_shaking_tag.to(device), \n",
    "                                 )\n",
    "    \n",
    "    # zero the parameter gradients\n",
    "    optimizer.zero_grad()\n",
    "    \n",
    "    batch_pred_shaking_outputs = ent_extractor(batch_input_ids, batch_attention_mask, batch_token_type_ids)\n",
    "#     set_trace()\n",
    "    loss = metrics.loss_func(batch_pred_shaking_outputs, batch_gold_shaking_tag)\n",
    "    \n",
    "    # bp\n",
    "#     t1 = time.time()\n",
    "    loss.backward()\n",
    "    optimizer.step()\n",
    "#     print(\"bp: {}\".format(time.time() - t1)) 1s + \n",
    "    \n",
    "    batch_pred_shaking_tag = (batch_pred_shaking_outputs > 0.).long()\n",
    "    sample_acc = metrics.get_sample_accuracy(batch_pred_shaking_tag, batch_gold_shaking_tag)\n",
    "\n",
    "    return loss.item(), sample_acc.item()\n",
    "\n",
    "# valid step\n",
    "def valid_step(valid_data):\n",
    "    ent_extractor.eval()\n",
    "    \n",
    "    sample_list, \\\n",
    "    batch_input_ids, batch_attention_mask, batch_token_type_ids, \\\n",
    "    offset_map_list,\\\n",
    "    batch_gold_shaking_tag = valid_data\n",
    "    \n",
    "    batch_input_ids, batch_attention_mask, batch_token_type_ids, \\\n",
    "    batch_gold_shaking_tag = (batch_input_ids.to(device), \n",
    "                              batch_attention_mask.to(device), \n",
    "                              batch_token_type_ids.to(device), \n",
    "                              batch_gold_shaking_tag.to(device), \n",
    "                             )\n",
    "    \n",
    "    with torch.no_grad():\n",
    "        batch_pred_shaking_outputs = ent_extractor(batch_input_ids, batch_attention_mask, batch_token_type_ids)\n",
    "        \n",
    "    batch_pred_shaking_tag = (batch_pred_shaking_outputs > 0.).long()\n",
    "    \n",
    "    sample_acc = metrics4valid.get_sample_accuracy(batch_pred_shaking_tag, batch_gold_shaking_tag)\n",
    "    correct_num, pred_num, gold_num = metrics4valid.get_ent_correct_pred_glod_num(sample_list, offset_map_list, \n",
    "                                                                                  batch_pred_shaking_tag)\n",
    "    \n",
    "    return sample_acc.item(), correct_num, pred_num, gold_num"
   ]
  },
  {
   "cell_type": "code",
   "execution_count": 25,
   "metadata": {},
   "outputs": [],
   "source": [
    "max_f1 = 0.\n",
    "def train_n_valid(train_dataloader, dev_dataloader, optimizer, scheduler, num_epoch):  \n",
    "    def train(dataloader, ep):\n",
    "        t_ep = time.time()\n",
    "        total_loss, total_sample_acc = 0., 0.\n",
    "        for batch_ind, train_data in enumerate(dataloader):\n",
    "            t_batch = time.time()\n",
    "            \n",
    "            scheduler.step(ep * len(dataloader) + batch_ind)\n",
    "            loss, sample_acc = train_step(train_data, optimizer)\n",
    "            \n",
    "            total_loss += loss\n",
    "            total_sample_acc += sample_acc\n",
    "            \n",
    "            avg_loss = total_loss / (batch_ind + 1)\n",
    "            avg_sample_acc = total_sample_acc / (batch_ind + 1)\n",
    "            \n",
    "            batch_print_format = \"\\rproject: {}, run_name: {}, Epoch: {}/{}, batch: {}/{}, train_loss: {}, t_sample_acc: {}, lr: {}, batch_time: {}------------------------\"\n",
    "            print(batch_print_format.format(experiment_name, config[\"run_name\"], \n",
    "                                            ep + 1, num_epoch, \n",
    "                                            batch_ind + 1, len(dataloader), \n",
    "                                            avg_loss, \n",
    "                                            avg_sample_acc,\n",
    "                                            optimizer.param_groups[0]['lr'],\n",
    "                                            time.time() - t_batch), end=\"\")\n",
    "            \n",
    "            if config[\"wandb\"] is True and batch_ind % hyper_parameters[\"log_interval\"] == 0:\n",
    "                logger.log({\n",
    "                    \"train_loss\": avg_loss,\n",
    "                    \"train_shaking_tag_acc\": avg_sample_acc,\n",
    "                    \"learning_rate\": optimizer.param_groups[0]['lr'],\n",
    "                    \"time\": time.time() - t_ep,\n",
    "                })\n",
    "                \n",
    "    def valid(dataloader, ep):\n",
    "        # valid\n",
    "        t_ep = time.time()\n",
    "        total_sample_acc = 0.\n",
    "        total_correct_num, total_pred_num, total_gold_num = 0., 0., 0.\n",
    "        for batch_ind, dev_data in enumerate(tqdm(dataloader, desc = \"Validating\")):\n",
    "            sample_acc, correct_num, pred_num, gold_num = valid_step(dev_data)\n",
    "            \n",
    "            total_sample_acc += sample_acc\n",
    "            total_correct_num += correct_num\n",
    "            total_pred_num += pred_num\n",
    "            total_gold_num += gold_num\n",
    "\n",
    "        avg_sample_acc = total_sample_acc / len(dataloader)\n",
    "        precision, recall, f1 = metrics4valid.get_scores(total_correct_num, total_pred_num, total_gold_num)\n",
    "\n",
    "        log_dict = {\n",
    "                \"val_shaking_tag_acc\": avg_sample_acc,\n",
    "                \"val_prec\": precision,\n",
    "                \"val_recall\": recall,\n",
    "                \"val_f1\": f1,\n",
    "                \"time\": time.time() - t_ep,\n",
    "            }\n",
    "        pprint(log_dict)\n",
    "        if config[\"wandb\"] is True:\n",
    "            logger.log(log_dict)\n",
    "        \n",
    "        return f1\n",
    "        \n",
    "    for ep in range(num_epoch):\n",
    "        train(train_dataloader, ep)   \n",
    "        print()\n",
    "        valid_f1 = valid(dev_dataloader, ep)\n",
    "        \n",
    "        global max_f1\n",
    "        if valid_f1 >= max_f1: \n",
    "            max_f1 = valid_f1\n",
    "            if max_f1 > config[\"f1_2_save\"]: # save the best model\n",
    "                file_num = len(glob.glob(model_state_dict_dir + \"/*.pt\"))\n",
    "                torch.save(ent_extractor.state_dict(), os.path.join(model_state_dict_dir, \"model_state_dict_{}.pt\".format(file_num)))\n",
    "        print(\"Current valid_f1: {}, Best f1: {}\".format(valid_f1, max_f1))"
   ]
  },
  {
   "cell_type": "code",
   "execution_count": 26,
   "metadata": {},
   "outputs": [],
   "source": [
    "# optimizer \n",
    "optimizer = torch.optim.Adam(ent_extractor.parameters(), lr = init_learning_rate)\n",
    "\n",
    "if hyper_parameters[\"scheduler\"] == \"CAWR\":\n",
    "    T_mult = hyper_parameters[\"T_mult\"]\n",
    "    rewarm_epoch_num = hyper_parameters[\"rewarm_epoch_num\"]\n",
    "    scheduler = torch.optim.lr_scheduler.CosineAnnealingWarmRestarts(optimizer, len(train_dataloader) * rewarm_epoch_num, T_mult)\n",
    "    \n",
    "elif hyper_parameters[\"scheduler\"] == \"Step\":\n",
    "    decay_rate = hyper_parameters[\"decay_rate\"]\n",
    "    decay_steps = hyper_parameters[\"decay_steps\"]\n",
    "    scheduler = torch.optim.lr_scheduler.StepLR(optimizer, step_size = decay_steps, gamma = decay_rate)"
   ]
  },
  {
   "cell_type": "code",
   "execution_count": 27,
   "metadata": {
    "scrolled": true
   },
   "outputs": [
    {
     "name": "stdout",
     "output_type": "stream",
     "text": [
      "Epoch: 1/200, batch: 26/812, train_loss: 0.43229221187245387, t_sample_acc: 0.0, lr: 4.997076971314135e-05, batch_time: 0.5865511894226074-------------------------"
     ]
    },
    {
     "name": "stderr",
     "output_type": "stream",
     "text": [
      "Process Process-3:\n",
      "Process Process-4:\n",
      "Process Process-1:\n",
      "Process Process-6:\n",
      "Process Process-5:\n",
      "Process Process-2:\n",
      "Traceback (most recent call last):\n",
      "Traceback (most recent call last):\n",
      "Traceback (most recent call last):\n",
      "  File \"/home/wangyucheng/anaconda3/envs/machine_learning/lib/python3.6/multiprocessing/process.py\", line 261, in _bootstrap\n",
      "    util._exit_function()\n",
      "Traceback (most recent call last):\n",
      "  File \"/home/wangyucheng/anaconda3/envs/machine_learning/lib/python3.6/multiprocessing/util.py\", line 322, in _exit_function\n",
      "    _run_finalizers()\n",
      "  File \"/home/wangyucheng/anaconda3/envs/machine_learning/lib/python3.6/multiprocessing/process.py\", line 261, in _bootstrap\n",
      "    util._exit_function()\n",
      "  File \"/home/wangyucheng/anaconda3/envs/machine_learning/lib/python3.6/multiprocessing/process.py\", line 261, in _bootstrap\n",
      "    util._exit_function()\n",
      "Traceback (most recent call last):\n",
      "  File \"/home/wangyucheng/anaconda3/envs/machine_learning/lib/python3.6/multiprocessing/util.py\", line 262, in _run_finalizers\n",
      "    finalizer()\n",
      "  File \"/home/wangyucheng/anaconda3/envs/machine_learning/lib/python3.6/multiprocessing/util.py\", line 322, in _exit_function\n",
      "    _run_finalizers()\n",
      "  File \"/home/wangyucheng/anaconda3/envs/machine_learning/lib/python3.6/multiprocessing/process.py\", line 261, in _bootstrap\n",
      "    util._exit_function()\n",
      "  File \"/home/wangyucheng/anaconda3/envs/machine_learning/lib/python3.6/multiprocessing/process.py\", line 261, in _bootstrap\n",
      "    util._exit_function()\n",
      "  File \"/home/wangyucheng/anaconda3/envs/machine_learning/lib/python3.6/multiprocessing/util.py\", line 322, in _exit_function\n",
      "    _run_finalizers()\n",
      "  File \"/home/wangyucheng/anaconda3/envs/machine_learning/lib/python3.6/multiprocessing/util.py\", line 186, in __call__\n",
      "    res = self._callback(*self._args, **self._kwargs)\n",
      "  File \"/home/wangyucheng/anaconda3/envs/machine_learning/lib/python3.6/multiprocessing/util.py\", line 262, in _run_finalizers\n",
      "    finalizer()\n",
      "  File \"/home/wangyucheng/anaconda3/envs/machine_learning/lib/python3.6/multiprocessing/queues.py\", line 191, in _finalize_join\n",
      "    thread.join()\n",
      "  File \"/home/wangyucheng/anaconda3/envs/machine_learning/lib/python3.6/multiprocessing/util.py\", line 322, in _exit_function\n",
      "    _run_finalizers()\n",
      "  File \"/home/wangyucheng/anaconda3/envs/machine_learning/lib/python3.6/multiprocessing/util.py\", line 322, in _exit_function\n",
      "    _run_finalizers()\n",
      "  File \"/home/wangyucheng/anaconda3/envs/machine_learning/lib/python3.6/multiprocessing/util.py\", line 262, in _run_finalizers\n",
      "    finalizer()\n",
      "  File \"/home/wangyucheng/anaconda3/envs/machine_learning/lib/python3.6/multiprocessing/util.py\", line 186, in __call__\n",
      "    res = self._callback(*self._args, **self._kwargs)\n",
      "  File \"/home/wangyucheng/anaconda3/envs/machine_learning/lib/python3.6/multiprocessing/util.py\", line 262, in _run_finalizers\n",
      "    finalizer()\n",
      "  File \"/home/wangyucheng/anaconda3/envs/machine_learning/lib/python3.6/multiprocessing/queues.py\", line 191, in _finalize_join\n",
      "    thread.join()\n",
      "  File \"/home/wangyucheng/anaconda3/envs/machine_learning/lib/python3.6/multiprocessing/util.py\", line 186, in __call__\n",
      "    res = self._callback(*self._args, **self._kwargs)\n",
      "  File \"/home/wangyucheng/anaconda3/envs/machine_learning/lib/python3.6/threading.py\", line 1056, in join\n",
      "    self._wait_for_tstate_lock()\n",
      "Traceback (most recent call last):\n",
      "  File \"/home/wangyucheng/anaconda3/envs/machine_learning/lib/python3.6/multiprocessing/util.py\", line 186, in __call__\n",
      "    res = self._callback(*self._args, **self._kwargs)\n",
      "  File \"/home/wangyucheng/anaconda3/envs/machine_learning/lib/python3.6/threading.py\", line 1056, in join\n",
      "    self._wait_for_tstate_lock()\n",
      "  File \"/home/wangyucheng/anaconda3/envs/machine_learning/lib/python3.6/multiprocessing/util.py\", line 262, in _run_finalizers\n",
      "    finalizer()\n",
      "  File \"/home/wangyucheng/anaconda3/envs/machine_learning/lib/python3.6/multiprocessing/queues.py\", line 191, in _finalize_join\n",
      "    thread.join()\n",
      "  File \"/home/wangyucheng/anaconda3/envs/machine_learning/lib/python3.6/threading.py\", line 1072, in _wait_for_tstate_lock\n",
      "    elif lock.acquire(block, timeout):\n",
      "  File \"/home/wangyucheng/anaconda3/envs/machine_learning/lib/python3.6/multiprocessing/util.py\", line 186, in __call__\n",
      "    res = self._callback(*self._args, **self._kwargs)\n",
      "  File \"/home/wangyucheng/anaconda3/envs/machine_learning/lib/python3.6/multiprocessing/queues.py\", line 191, in _finalize_join\n",
      "    thread.join()\n",
      "  File \"/home/wangyucheng/anaconda3/envs/machine_learning/lib/python3.6/multiprocessing/process.py\", line 261, in _bootstrap\n",
      "    util._exit_function()\n",
      "  File \"/home/wangyucheng/anaconda3/envs/machine_learning/lib/python3.6/threading.py\", line 1072, in _wait_for_tstate_lock\n",
      "    elif lock.acquire(block, timeout):\n",
      "KeyboardInterrupt\n",
      "  File \"/home/wangyucheng/anaconda3/envs/machine_learning/lib/python3.6/threading.py\", line 1056, in join\n",
      "    self._wait_for_tstate_lock()\n",
      "  File \"/home/wangyucheng/anaconda3/envs/machine_learning/lib/python3.6/threading.py\", line 1072, in _wait_for_tstate_lock\n",
      "    elif lock.acquire(block, timeout):\n",
      "  File \"/home/wangyucheng/anaconda3/envs/machine_learning/lib/python3.6/threading.py\", line 1056, in join\n",
      "    self._wait_for_tstate_lock()\n",
      "  File \"/home/wangyucheng/anaconda3/envs/machine_learning/lib/python3.6/multiprocessing/queues.py\", line 191, in _finalize_join\n",
      "    thread.join()\n",
      "  File \"/home/wangyucheng/anaconda3/envs/machine_learning/lib/python3.6/threading.py\", line 1072, in _wait_for_tstate_lock\n",
      "    elif lock.acquire(block, timeout):\n",
      "KeyboardInterrupt\n",
      "KeyboardInterrupt\n",
      "  File \"/home/wangyucheng/anaconda3/envs/machine_learning/lib/python3.6/threading.py\", line 1056, in join\n",
      "    self._wait_for_tstate_lock()\n",
      "KeyboardInterrupt\n",
      "KeyboardInterrupt\n",
      "  File \"/home/wangyucheng/anaconda3/envs/machine_learning/lib/python3.6/threading.py\", line 1072, in _wait_for_tstate_lock\n",
      "    elif lock.acquire(block, timeout):\n",
      "  File \"/home/wangyucheng/anaconda3/envs/machine_learning/lib/python3.6/threading.py\", line 1072, in _wait_for_tstate_lock\n",
      "    elif lock.acquire(block, timeout):\n",
      "  File \"/home/wangyucheng/anaconda3/envs/machine_learning/lib/python3.6/multiprocessing/util.py\", line 322, in _exit_function\n",
      "    _run_finalizers()\n",
      "  File \"/home/wangyucheng/anaconda3/envs/machine_learning/lib/python3.6/multiprocessing/util.py\", line 262, in _run_finalizers\n",
      "    finalizer()\n",
      "KeyboardInterrupt\n",
      "  File \"/home/wangyucheng/anaconda3/envs/machine_learning/lib/python3.6/multiprocessing/util.py\", line 186, in __call__\n",
      "    res = self._callback(*self._args, **self._kwargs)\n",
      "  File \"/home/wangyucheng/anaconda3/envs/machine_learning/lib/python3.6/multiprocessing/queues.py\", line 191, in _finalize_join\n",
      "    thread.join()\n",
      "  File \"/home/wangyucheng/anaconda3/envs/machine_learning/lib/python3.6/threading.py\", line 1056, in join\n",
      "    self._wait_for_tstate_lock()\n"
     ]
    },
    {
     "name": "stdout",
     "output_type": "stream",
     "text": [
      "\r",
      "Epoch: 1/200, batch: 27/812, train_loss: 0.41701524752985547, t_sample_acc: 0.0, lr: 4.996838502457453e-05, batch_time: 0.5897548198699951------------------------"
     ]
    },
    {
     "name": "stderr",
     "output_type": "stream",
     "text": [
      "Exception ignored in: <bound method _MultiProcessingDataLoaderIter.__del__ of <torch.utils.data.dataloader._MultiProcessingDataLoaderIter object at 0x7f3a0d0243c8>>\n",
      "Traceback (most recent call last):\n",
      "  File \"/home/wangyucheng/anaconda3/envs/machine_learning/lib/python3.6/site-packages/torch/utils/data/dataloader.py\", line 961, in __del__\n",
      "    self._shutdown_workers()\n",
      "  File \"/home/wangyucheng/anaconda3/envs/machine_learning/lib/python3.6/site-packages/torch/utils/data/dataloader.py\", line 941, in _shutdown_workers\n",
      "    w.join()\n",
      "  File \"/home/wangyucheng/anaconda3/envs/machine_learning/lib/python3.6/multiprocessing/process.py\", line 124, in join\n",
      "    res = self._popen.wait(timeout)\n",
      "  File \"/home/wangyucheng/anaconda3/envs/machine_learning/lib/python3.6/multiprocessing/popen_fork.py\", line 50, in wait\n",
      "    return self.poll(os.WNOHANG if timeout == 0.0 else 0)\n",
      "  File \"/home/wangyucheng/anaconda3/envs/machine_learning/lib/python3.6/multiprocessing/popen_fork.py\", line 28, in poll\n",
      "    pid, sts = os.waitpid(self.pid, flag)\n",
      "KeyboardInterrupt: \n",
      "ERROR:root:Internal Python error in the inspect module.\n",
      "Below is the traceback from this internal error.\n",
      "\n"
     ]
    },
    {
     "name": "stdout",
     "output_type": "stream",
     "text": [
      "Traceback (most recent call last):\n",
      "  File \"/home/wangyucheng/anaconda3/envs/machine_learning/lib/python3.6/site-packages/IPython/core/interactiveshell.py\", line 3331, in run_code\n",
      "    exec(code_obj, self.user_global_ns, self.user_ns)\n",
      "  File \"<ipython-input-27-e769efd09547>\", line 6, in <module>\n",
      "    train_n_valid(train_dataloader, valid_dataloader, optimizer, scheduler, epoch_num)\n",
      "  File \"<ipython-input-25-b43203ca699c>\", line 64, in train_n_valid\n",
      "    train(train_dataloader, ep)\n",
      "  File \"<ipython-input-25-b43203ca699c>\", line 7, in train\n",
      "    t_batch = time.time()\n",
      "KeyboardInterrupt\n",
      "\n",
      "During handling of the above exception, another exception occurred:\n",
      "\n",
      "Traceback (most recent call last):\n",
      "  File \"/home/wangyucheng/anaconda3/envs/machine_learning/lib/python3.6/site-packages/IPython/core/interactiveshell.py\", line 2044, in showtraceback\n",
      "    stb = value._render_traceback_()\n",
      "AttributeError: 'KeyboardInterrupt' object has no attribute '_render_traceback_'\n",
      "\n",
      "During handling of the above exception, another exception occurred:\n",
      "\n",
      "Traceback (most recent call last):\n",
      "  File \"/home/wangyucheng/anaconda3/envs/machine_learning/lib/python3.6/site-packages/IPython/core/ultratb.py\", line 1151, in get_records\n",
      "    return _fixed_getinnerframes(etb, number_of_lines_of_context, tb_offset)\n",
      "  File \"/home/wangyucheng/anaconda3/envs/machine_learning/lib/python3.6/site-packages/IPython/core/ultratb.py\", line 319, in wrapped\n",
      "    return f(*args, **kwargs)\n",
      "  File \"/home/wangyucheng/anaconda3/envs/machine_learning/lib/python3.6/site-packages/IPython/core/ultratb.py\", line 353, in _fixed_getinnerframes\n",
      "    records = fix_frame_records_filenames(inspect.getinnerframes(etb, context))\n",
      "  File \"/home/wangyucheng/anaconda3/envs/machine_learning/lib/python3.6/inspect.py\", line 1490, in getinnerframes\n",
      "    frameinfo = (tb.tb_frame,) + getframeinfo(tb, context)\n",
      "  File \"/home/wangyucheng/anaconda3/envs/machine_learning/lib/python3.6/inspect.py\", line 1448, in getframeinfo\n",
      "    filename = getsourcefile(frame) or getfile(frame)\n",
      "  File \"/home/wangyucheng/anaconda3/envs/machine_learning/lib/python3.6/inspect.py\", line 696, in getsourcefile\n",
      "    if getattr(getmodule(object, filename), '__loader__', None) is not None:\n",
      "  File \"/home/wangyucheng/anaconda3/envs/machine_learning/lib/python3.6/inspect.py\", line 733, in getmodule\n",
      "    if ismodule(module) and hasattr(module, '__file__'):\n",
      "  File \"/home/wangyucheng/anaconda3/envs/machine_learning/lib/python3.6/site-packages/tensorflow/__init__.py\", line 50, in __getattr__\n",
      "    module = self._load()\n",
      "  File \"/home/wangyucheng/anaconda3/envs/machine_learning/lib/python3.6/site-packages/tensorflow/__init__.py\", line 44, in _load\n",
      "    module = _importlib.import_module(self.__name__)\n",
      "  File \"/home/wangyucheng/anaconda3/envs/machine_learning/lib/python3.6/importlib/__init__.py\", line 126, in import_module\n",
      "    return _bootstrap._gcd_import(name[level:], package, level)\n",
      "  File \"<frozen importlib._bootstrap>\", line 994, in _gcd_import\n",
      "  File \"<frozen importlib._bootstrap>\", line 971, in _find_and_load\n",
      "  File \"<frozen importlib._bootstrap>\", line 951, in _find_and_load_unlocked\n",
      "  File \"<frozen importlib._bootstrap>\", line 894, in _find_spec\n",
      "  File \"<frozen importlib._bootstrap_external>\", line 1157, in find_spec\n",
      "  File \"<frozen importlib._bootstrap_external>\", line 1129, in _get_spec\n",
      "  File \"<frozen importlib._bootstrap_external>\", line 1260, in find_spec\n",
      "  File \"<frozen importlib._bootstrap_external>\", line 96, in _path_isfile\n",
      "KeyboardInterrupt\n"
     ]
    },
    {
     "ename": "KeyboardInterrupt",
     "evalue": "",
     "output_type": "error",
     "traceback": [
      "\u001b[0;31m---------------------------------------------------------------------------\u001b[0m"
     ]
    }
   ],
   "source": [
    "if not config[\"fr_scratch\"]:\n",
    "    model_state_path = config[\"model_state_dict_path\"]\n",
    "    rel_extractor.load_state_dict(torch.load(model_state_path))\n",
    "    print(\"------------model state {} loaded ----------------\".format(model_state_path.split(\"/\")[-1]))\n",
    "    \n",
    "train_n_valid(train_dataloader, valid_dataloader, optimizer, scheduler, epoch_num)"
   ]
  }
 ],
 "metadata": {
  "kernelspec": {
   "display_name": "Python 3",
   "language": "python",
   "name": "python3"
  },
  "language_info": {
   "codemirror_mode": {
    "name": "ipython",
    "version": 3
   },
   "file_extension": ".py",
   "mimetype": "text/x-python",
   "name": "python",
   "nbconvert_exporter": "python",
   "pygments_lexer": "ipython3",
   "version": "3.7.4"
  }
 },
 "nbformat": 4,
 "nbformat_minor": 2
}
