{
 "cells": [
  {
   "cell_type": "code",
   "execution_count": 1,
   "metadata": {},
   "outputs": [],
   "source": [
    "from bs4 import BeautifulSoup\n",
    "import os\n",
    "import re\n",
    "import torch\n",
    "import torch.nn as nn\n",
    "import torch.nn.functional as F\n",
    "from torch.utils.data import DataLoader, Dataset\n",
    "import torch.optim as optim\n",
    "from transformers import BertTokenizerFast\n",
    "from IPython.core.debugger import set_trace\n",
    "import copy\n",
    "from tqdm import tqdm\n",
    "import html\n",
    "from pprint import pprint\n",
    "import glob\n",
    "import time\n",
    "from ner_common.utils import Preprocessor, WordTokenizer\n",
    "from tplinker_ner import (HandshakingTaggingScheme, \n",
    "                          DataMaker, \n",
    "                          TPLinkerNER, \n",
    "                          Metrics)\n",
    "import json\n",
    "import wandb\n",
    "import yaml\n",
    "import word2vec\n",
    "import numpy as np"
   ]
  },
  {
   "cell_type": "markdown",
   "metadata": {},
   "source": [
    "# Superparameter"
   ]
  },
  {
   "cell_type": "code",
   "execution_count": 2,
   "metadata": {},
   "outputs": [],
   "source": [
    "try:\n",
    "    from yaml import CLoader as Loader, CDumper as Dumper\n",
    "except ImportError:\n",
    "    from yaml import Loader, Dumper\n",
    "config = yaml.load(open(\"train_config.yaml\", \"r\"), Loader = yaml.FullLoader)\n",
    "# hyperparameters\n",
    "hyper_parameters = config[\"hyper_parameters\"]"
   ]
  },
  {
   "cell_type": "code",
   "execution_count": 3,
   "metadata": {},
   "outputs": [
    {
     "name": "stdout",
     "output_type": "stream",
     "text": [
      "1 GPUs are available\n"
     ]
    }
   ],
   "source": [
    "os.environ[\"TOKENIZERS_PARALLELISM\"] = \"false\"\n",
    "# device\n",
    "os.environ[\"CUDA_VISIBLE_DEVICES\"] = str(config[\"device_num\"])\n",
    "print(torch.cuda.device_count(), \"GPUs are available\")\n",
    "device = torch.device(\"cuda:0\" if torch.cuda.is_available() else \"cpu\")"
   ]
  },
  {
   "cell_type": "code",
   "execution_count": 4,
   "metadata": {},
   "outputs": [],
   "source": [
    "experiment_name = config[\"experiment_name\"]\n",
    "run_name = config[\"run_name\"]\n",
    "if config[\"wandb\"] == True:\n",
    "    # init wandb\n",
    "    wandb.init(project = experiment_name, \n",
    "               name = run_name,\n",
    "               config = hyper_parameters # Initialize config\n",
    "              )\n",
    "\n",
    "    wandb.config.note = config[\"note\"]          \n",
    "\n",
    "    model_state_dict_dir = wandb.run.dir\n",
    "    logger = wandb\n",
    "else:\n",
    "    model_state_dict_dir = os.path.join(config[\"path_to_save_model\"], experiment_name)\n",
    "    if not os.path.exists(model_state_dict_dir):\n",
    "        os.makedirs(model_state_dict_dir)"
   ]
  },
  {
   "cell_type": "code",
   "execution_count": 5,
   "metadata": {},
   "outputs": [],
   "source": [
    "# >>>>>>>>>>>preprocessing config>>>>>>>>>>>>>>\n",
    "max_seq_len = hyper_parameters[\"max_seq_len\"]\n",
    "pred_max_seq_len = hyper_parameters[\"pred_max_seq_len\"]\n",
    "sliding_len = hyper_parameters[\"sliding_len\"]\n",
    "pred_sliding_len = hyper_parameters[\"pred_sliding_len\"]\n",
    "token_type = hyper_parameters[\"token_type\"]\n",
    "\n",
    "# >>>>>>>>>>>>>train config>>>>>>>>>>\n",
    "## for reproductivity\n",
    "torch.manual_seed(hyper_parameters[\"seed\"]) # pytorch random seed\n",
    "torch.backends.cudnn.deterministic = True\n",
    "init_learning_rate = float(hyper_parameters[\"lr\"])\n",
    "batch_size = hyper_parameters[\"batch_size\"]\n",
    "parallel = hyper_parameters[\"parallel\"]\n",
    "if parallel:\n",
    "    print(\"Parallel training is set up!\")\n",
    "epoch_num = hyper_parameters[\"epochs\"]\n",
    "\n",
    "# >>>>>>>>>>model config>>>>>>>>>>>>\n",
    "## char encoder\n",
    "char_encoder_config = {\n",
    "    \"emb_dim\": hyper_parameters[\"char_emb_dim\"],\n",
    "    \"emb_dropout\": hyper_parameters[\"char_emb_dropout\"],\n",
    "    \"bilstm_layers\": hyper_parameters[\"char_bilstm_layers\"],\n",
    "    \"bilstm_dropout\": hyper_parameters[\"char_bilstm_dropout\"],\n",
    "}\n",
    "## bert encoder\n",
    "bert_cofig = {\n",
    "    \"path\": hyper_parameters[\"bert_path\"],\n",
    "    \"fintune\": hyper_parameters[\"bert_finetune\"],\n",
    "    \"use_last_k_layers\": hyper_parameters[\"use_last_k_bert_layers\"],\n",
    "}\n",
    "## word encoder\n",
    "word_encoder_config = {\n",
    "    \"emb_dropout\": hyper_parameters[\"word_emb_dropout\"],\n",
    "    \"bilstm_layers\": hyper_parameters[\"word_bilstm_layers\"],\n",
    "    \"bilstm_dropout\": hyper_parameters[\"word_bilstm_dropout\"],\n",
    "    \"freeze_word_emb\": hyper_parameters[\"freeze_word_emb\"],\n",
    "}\n",
    "## handshaking_kernel\n",
    "handshaking_kernel_config = {\n",
    "    \"shaking_type\": hyper_parameters[\"shaking_type\"],\n",
    "    \"context_type\": hyper_parameters[\"context_type\"],\n",
    "    \"visual_field\": hyper_parameters[\"visual_field\"], \n",
    "}\n",
    "## encoding fc\n",
    "activate_enc_fc = hyper_parameters[\"activate_enc_fc\"]\n",
    "\n",
    "\n",
    "# >>>>>>>>>data path>>>>>>>>>>>>>>\n",
    "data_home = config[\"data_home\"]\n",
    "train_data_path = os.path.join(data_home, experiment_name, config[\"train_data\"])\n",
    "valid_data_path = os.path.join(data_home, experiment_name, config[\"valid_data\"])\n",
    "meta_path = os.path.join(data_home, experiment_name, config[\"meta\"])\n",
    "word2idx_path = os.path.join(data_home, experiment_name, config[\"word2idx\"])\n",
    "char2idx_path = os.path.join(data_home, experiment_name, config[\"char2idx\"])"
   ]
  },
  {
   "cell_type": "markdown",
   "metadata": {},
   "source": [
    "# Load Data"
   ]
  },
  {
   "cell_type": "code",
   "execution_count": 6,
   "metadata": {},
   "outputs": [],
   "source": [
    "train_data = json.load(open(train_data_path, \"r\", encoding = \"utf-8\"))\n",
    "valid_data = json.load(open(valid_data_path, \"r\", encoding = \"utf-8\"))"
   ]
  },
  {
   "cell_type": "markdown",
   "metadata": {},
   "source": [
    "# Split"
   ]
  },
  {
   "cell_type": "code",
   "execution_count": 7,
   "metadata": {},
   "outputs": [],
   "source": [
    "# init tokenizers\n",
    "bert_tokenizer = BertTokenizerFast.from_pretrained(bert_cofig[\"path\"], add_special_tokens = False, do_lower_case = False)\n",
    "word2idx = json.load(open(word2idx_path, \"r\", encoding = \"utf-8\"))\n",
    "word_tokenizer = WordTokenizer(word2idx)\n",
    "\n",
    "preprocessor = Preprocessor(bert_tokenizer, token_type) if token_type == \"subword\" else Preprocessor(word_tokenizer, token_type)"
   ]
  },
  {
   "cell_type": "code",
   "execution_count": 8,
   "metadata": {},
   "outputs": [
    {
     "name": "stderr",
     "output_type": "stream",
     "text": [
      "calculating the max token number of train data: 100%|██████████| 15022/15022 [00:01<00:00, 9718.21it/s] \n",
      "Splitting:   1%|          | 186/15022 [00:00<00:08, 1853.67it/s]"
     ]
    },
    {
     "name": "stdout",
     "output_type": "stream",
     "text": [
      "max token number of train data: 373\n",
      "max token number of train data is greater than the setting, need to split!\n"
     ]
    },
    {
     "name": "stderr",
     "output_type": "stream",
     "text": [
      "Splitting: 100%|██████████| 15022/15022 [00:05<00:00, 2716.57it/s]\n",
      "calculating the max token number of valid data: 100%|██████████| 1669/1669 [00:00<00:00, 7379.31it/s]\n",
      "Splitting:  11%|█▏        | 189/1669 [00:00<00:00, 1878.83it/s]"
     ]
    },
    {
     "name": "stdout",
     "output_type": "stream",
     "text": [
      "max token number of valid data: 224\n",
      "max token number of valid data is greater than the setting, need to split!\n"
     ]
    },
    {
     "name": "stderr",
     "output_type": "stream",
     "text": [
      "Splitting: 100%|██████████| 1669/1669 [00:00<00:00, 2660.18it/s]\n"
     ]
    }
   ],
   "source": [
    "def split(data, max_seq_len, sliding_len, data_type = \"train\"):\n",
    "    '''\n",
    "    split into short texts\n",
    "    '''\n",
    "    max_tok_num = 0\n",
    "    for sample in tqdm(data, \"calculating the max token number of {} data\".format(data_type)):\n",
    "        text = sample[\"text\"]\n",
    "        tokens = preprocessor.tokenize(text)\n",
    "        max_tok_num = max(max_tok_num, len(tokens))\n",
    "    print(\"max token number of {} data: {}\".format(data_type, max_tok_num))\n",
    "    \n",
    "    if max_tok_num > max_seq_len:\n",
    "        print(\"max token number of {} data is greater than the setting, need to split!\".format(data_type))\n",
    "        short_data = preprocessor.split_into_short_samples(data, \n",
    "                                          max_seq_len, \n",
    "                                          sliding_len = sliding_len)\n",
    "    else:\n",
    "        short_data = data\n",
    "        print(\"max token number of {} data is less than the setting, no need to split!\".format(data_type))\n",
    "    return short_data\n",
    "short_train_data = split(train_data, max_seq_len, sliding_len, \"train\")\n",
    "short_valid_data = split(valid_data, pred_max_seq_len, pred_sliding_len, \"valid\")"
   ]
  },
  {
   "cell_type": "code",
   "execution_count": 9,
   "metadata": {},
   "outputs": [],
   "source": [
    "# # check tok spans of new short article dict list\n",
    "# for art_dict in tqdm(short_train_data + short_valid_data):\n",
    "#     text = art_dict[\"text\"]\n",
    "#     tok2char_span = preprocessor.get_tok2char_span_map(text)\n",
    "#     for term in art_dict[\"entity_list\"]:        \n",
    "#         # # bert-base-cased 的voc 里必须加两个token：hypo, mineralo\n",
    "#         tok_span = term[\"tok_span\"]\n",
    "#         char_span_list = tok2char_span[tok_span[0]:tok_span[1]]\n",
    "#         pred_text = text[char_span_list[0][0]:char_span_list[-1][1]]\n",
    "#         assert pred_text == term[\"text\"]"
   ]
  },
  {
   "cell_type": "markdown",
   "metadata": {},
   "source": [
    "# Tagging"
   ]
  },
  {
   "cell_type": "code",
   "execution_count": 10,
   "metadata": {},
   "outputs": [
    {
     "name": "stdout",
     "output_type": "stream",
     "text": [
      "Recommended visual_field is greater than current visual_field, reset to rec val: 45\n"
     ]
    }
   ],
   "source": [
    "meta = json.load(open(meta_path, \"r\", encoding = \"utf-8\"))\n",
    "tags = meta[\"tags\"]\n",
    "if meta[\"visual_field_rec\"] > handshaking_kernel_config[\"visual_field\"]:\n",
    "    handshaking_kernel_config[\"visual_field\"] = meta[\"visual_field_rec\"]\n",
    "    print(\"Recommended visual_field is greater than current visual_field, reset to rec val: {}\".format(handshaking_kernel_config[\"visual_field\"]))"
   ]
  },
  {
   "cell_type": "code",
   "execution_count": 11,
   "metadata": {},
   "outputs": [],
   "source": [
    "def sample_equal_to(sample1, sample2):\n",
    "    assert sample1[\"id\"] == sample2[\"id\"] and sample1[\"text\"] == sample2[\"text\"]\n",
    "    \n",
    "    entity_list1, entity_list2 = sample1[\"entity_list\"], sample2[\"entity_list\"]\n",
    "    memory_set = set()\n",
    "    for term in entity_list2:\n",
    "        memory_set.add(\"{},{},{}\".format(term[\"tok_span\"][0], term[\"tok_span\"][1], term[\"type\"]))\n",
    "    for term in entity_list1:\n",
    "        memory = \"{},{},{}\".format(term[\"tok_span\"][0], term[\"tok_span\"][1], term[\"type\"])\n",
    "        if memory not in memory_set:\n",
    "            set_trace()\n",
    "            return False\n",
    "    return True"
   ]
  },
  {
   "cell_type": "code",
   "execution_count": 12,
   "metadata": {},
   "outputs": [],
   "source": [
    "handshaking_tagger = HandshakingTaggingScheme(tags, max_seq_len, handshaking_kernel_config[\"visual_field\"])\n",
    "handshaking_tagger4valid = HandshakingTaggingScheme(tags, pred_max_seq_len, handshaking_kernel_config[\"visual_field\"])"
   ]
  },
  {
   "cell_type": "code",
   "execution_count": 13,
   "metadata": {},
   "outputs": [],
   "source": [
    "# # check tagging and decoding\n",
    "# def check_tagging_decoding(data4check, handshaking_tagger):\n",
    "#     for idx in tqdm(range(0, len(data4check), batch_size)):\n",
    "#         batch_matrix_spots = []\n",
    "#         batch_data = data4check[idx:idx + batch_size]\n",
    "#         for sample in batch_data:\n",
    "#             matrix_spots = handshaking_tagger.get_spots(sample)\n",
    "#     #         %timeit shaking_tagger.get_spots(sample)\n",
    "#             batch_matrix_spots.append(matrix_spots)\n",
    "\n",
    "#         # tagging\n",
    "#         # batch_shaking_tag: (batch_size, shaking_tag, tag_size)\n",
    "#         batch_shaking_tag = handshaking_tagger.spots2shaking_tag4batch(batch_matrix_spots)\n",
    "#     #     %timeit shaking_tagger.spots2shaking_tag4batch(batch_matrix_spots) #0.3s\n",
    "\n",
    "#         for batch_idx in range(len(batch_data)):\n",
    "#             gold_sample = batch_data[batch_idx]\n",
    "#             shaking_tag = batch_shaking_tag[batch_idx]\n",
    "#             # decode\n",
    "#             text = gold_sample[\"text\"]\n",
    "#             tok2char_span = get_tok2char_span_map(text)\n",
    "#             ent_list = handshaking_tagger.decode_ent(text, shaking_tag, tok2char_span)\n",
    "#             pred_sample = {\n",
    "#                 \"text\": text,\n",
    "#                 \"id\": gold_sample[\"id\"],\n",
    "#                 \"entity_list\": ent_list,\n",
    "#             }\n",
    "\n",
    "#             if not sample_equal_to(pred_sample, gold_sample) or not sample_equal_to(gold_sample, pred_sample):\n",
    "#                 set_trace()\n",
    "# check_tagging_decoding(short_train_data, handshaking_tagger)\n",
    "# check_tagging_decoding(short_valid_data, handshaking_tagger4valid)"
   ]
  },
  {
   "cell_type": "markdown",
   "metadata": {},
   "source": [
    "# Character Index"
   ]
  },
  {
   "cell_type": "code",
   "execution_count": 14,
   "metadata": {},
   "outputs": [],
   "source": [
    "# character indexing\n",
    "char2idx = json.load(open(char2idx_path, \"r\", encoding = \"utf-8\"))\n",
    "\n",
    "def text2char_indices(text, max_seq_len = -1):\n",
    "    char_ids = []\n",
    "    chars = list(text)\n",
    "    for c in chars:\n",
    "        if c not in char2idx:\n",
    "            char_ids.append(char2idx['<UNK>'])\n",
    "        else:\n",
    "            char_ids.append(char2idx[c])\n",
    "    if len(char_ids) < max_seq_len:\n",
    "        char_ids.extend([char2idx['<PAD>']] * (max_seq_len - len(char_ids)))\n",
    "    if max_seq_len != -1:\n",
    "        char_ids = torch.tensor(char_ids[:max_seq_len]).long()\n",
    "    return char_ids"
   ]
  },
  {
   "cell_type": "markdown",
   "metadata": {},
   "source": [
    "# Dataset"
   ]
  },
  {
   "cell_type": "code",
   "execution_count": 15,
   "metadata": {},
   "outputs": [],
   "source": [
    "data_maker = DataMaker(handshaking_tagger, word_tokenizer, bert_tokenizer, text2char_indices)\n",
    "data_maker4valid = DataMaker(handshaking_tagger4valid, word_tokenizer, bert_tokenizer, text2char_indices)"
   ]
  },
  {
   "cell_type": "code",
   "execution_count": 16,
   "metadata": {},
   "outputs": [],
   "source": [
    "class MyDataset(Dataset):\n",
    "    def __init__(self, data):\n",
    "        self.data = data\n",
    "        \n",
    "    def __getitem__(self, index):\n",
    "        return self.data[index]\n",
    "    \n",
    "    def __len__(self):\n",
    "        return len(self.data)"
   ]
  },
  {
   "cell_type": "code",
   "execution_count": 17,
   "metadata": {},
   "outputs": [
    {
     "name": "stdout",
     "output_type": "stream",
     "text": [
      "max_word_num_train: 78, max_subword_num_train: 100\n",
      "max_word_num_val: 103, max_subword_num_val: 128\n"
     ]
    }
   ],
   "source": [
    "# max word num, max subword num, max char num\n",
    "def cal_max_seq_len(data):\n",
    "    max_char_num, max_word_num, max_subword_num = 0, 0, 0\n",
    "    for example in data:\n",
    "        text = example[\"text\"]\n",
    "        max_word_num = max(max_word_num, len(word_tokenizer.tokenize(text)))\n",
    "        max_subword_num = max(max_subword_num, len(bert_tokenizer.tokenize(text)))\n",
    "    return max_word_num, max_subword_num\n",
    "\n",
    "max_word_num_train, max_subword_num_train = cal_max_seq_len(short_train_data)\n",
    "print(\"max_word_num_train: {}, max_subword_num_train: {}\".format(max_word_num_train, max_subword_num_train))\n",
    "max_word_num_valid, max_subword_num_valid = cal_max_seq_len(short_valid_data)\n",
    "print(\"max_word_num_val: {}, max_subword_num_val: {}\".format(max_word_num_valid, max_subword_num_valid))"
   ]
  },
  {
   "cell_type": "code",
   "execution_count": 18,
   "metadata": {},
   "outputs": [],
   "source": [
    "# max character num of a single word\n",
    "def get_max_char_num_in_subword(data):\n",
    "    max_char_num = 0\n",
    "    for example in data:\n",
    "        text = example[\"text\"]\n",
    "        subword2char_span = bert_tokenizer.encode_plus(text, \n",
    "                                                       return_offsets_mapping = True, \n",
    "                                                       add_special_tokens = False)[\"offset_mapping\"]\n",
    "        max_char_num = max([span[1] - span[0] for span in subword2char_span] + [max_char_num, ])\n",
    "    return max_char_num\n",
    "\n",
    "def get_max_char_num_in_word(data):\n",
    "    max_char_num = 0\n",
    "    for example in data:\n",
    "        text = example[\"text\"]\n",
    "        word2char_span = word_tokenizer.encode_plus(text)[\"offset_mapping\"]\n",
    "        max_char_num = max([span[1] - span[0] for span in word2char_span] + [max_char_num, ])\n",
    "    return max_char_num"
   ]
  },
  {
   "cell_type": "code",
   "execution_count": 19,
   "metadata": {},
   "outputs": [],
   "source": [
    "if token_type == \"word\":\n",
    "    max_char_num_in_tok = get_max_char_num_in_word(short_train_data + short_valid_data)\n",
    "elif token_type == \"subword\":\n",
    "    max_char_num_in_tok = get_max_char_num_in_subword(short_train_data + short_valid_data)"
   ]
  },
  {
   "cell_type": "code",
   "execution_count": 20,
   "metadata": {},
   "outputs": [
    {
     "name": "stderr",
     "output_type": "stream",
     "text": [
      "Generate indexed data: 100%|██████████| 15322/15322 [00:22<00:00, 692.72it/s]\n",
      "Generate indexed data: 100%|██████████| 1681/1681 [00:03<00:00, 552.80it/s]\n"
     ]
    }
   ],
   "source": [
    "indexed_train_sample_list = data_maker.get_indexed_data(short_train_data,\n",
    "                                                        max_word_num_train,\n",
    "                                                        max_subword_num_train, \n",
    "                                                        max_char_num_in_tok)\n",
    "indexed_valid_sample_list = data_maker4valid.get_indexed_data(short_valid_data,\n",
    "                                                              max_word_num_valid,\n",
    "                                                              max_subword_num_valid, \n",
    "                                                              max_char_num_in_tok)"
   ]
  },
  {
   "cell_type": "code",
   "execution_count": 21,
   "metadata": {},
   "outputs": [],
   "source": [
    "train_dataloader = DataLoader(MyDataset(indexed_train_sample_list), \n",
    "                                  batch_size = batch_size, \n",
    "                                  shuffle = True, \n",
    "                                  num_workers = 6,\n",
    "                                  drop_last = False,\n",
    "                                  collate_fn = data_maker.generate_batch,\n",
    "                                 )\n",
    "valid_dataloader = DataLoader(MyDataset(indexed_valid_sample_list), \n",
    "                          batch_size = batch_size, \n",
    "                          shuffle = False, \n",
    "                          num_workers = 6,\n",
    "                          drop_last = False,\n",
    "                          collate_fn = data_maker4valid.generate_batch,\n",
    "                         )"
   ]
  },
  {
   "cell_type": "code",
   "execution_count": 22,
   "metadata": {},
   "outputs": [],
   "source": [
    "# # have a look at dataloader\n",
    "# train_data_iter = iter(train_dataloader)\n",
    "# batch_data = next(train_data_iter)\n",
    "\n",
    "# sample_list, \\\n",
    "# batch_subword_input_ids, batch_attention_mask, batch_token_type_ids, subword2char_span_list, \\\n",
    "# batch_char_input_ids4subword, batch_word_input_ids, batch_subword2word_idx_map, \\\n",
    "# batch_shaking_tag = batch_data\n",
    "\n",
    "# print(sample_list[0])\n",
    "# print()\n",
    "# print(bert_tokenizer.decode(batch_subword_input_ids[0].tolist()))\n",
    "# print(batch_subword_input_ids.size())\n",
    "# print(batch_attention_mask.size())\n",
    "# print(batch_token_type_ids.size())\n",
    "# print(len(subword2char_span_list))\n",
    "# print(batch_char_input_ids4subword.size())\n",
    "# print(batch_word_input_ids.size())\n",
    "# print(batch_subword2word_idx_map.size())\n",
    "# print(batch_shaking_tag.size())"
   ]
  },
  {
   "cell_type": "code",
   "execution_count": 23,
   "metadata": {},
   "outputs": [],
   "source": [
    "# from flair.data import Sentence\n",
    "# from flair.embeddings import FlairEmbeddings\n",
    "\n",
    "# # init embedding\n",
    "# flair_embedding_forward = FlairEmbeddings('news-backward')\n",
    "\n",
    "# # create a sentence\n",
    "# sentence = Sentence('The grass is green .')\n",
    "\n",
    "# # embed words in sentence\n",
    "# flair_embedding_forward.embed(sentence)\n",
    "\n",
    "# # for token in sentence:\n",
    "# #     print(token)\n",
    "# #     print(token.embedding)\n",
    "# #     print(token.embedding.size())"
   ]
  },
  {
   "cell_type": "markdown",
   "metadata": {},
   "source": [
    "# Model"
   ]
  },
  {
   "cell_type": "code",
   "execution_count": null,
   "metadata": {},
   "outputs": [],
   "source": [
    "# init word embedding\n",
    "pretrained_emb = word2vec.load('../../pretrained_emb/bio_nlp_vec/PubMed-shuffle-win-30.bin')"
   ]
  },
  {
   "cell_type": "code",
   "execution_count": null,
   "metadata": {},
   "outputs": [],
   "source": [
    "init_word_embedding_matrix = np.random.normal(-0.5, 0.5, size=(len(word2idx), 200))\n",
    "hit_count = 0\n",
    "for word, idx in tqdm(word2idx.items(), desc = \"Init word embedding matrix\"):\n",
    "    if word in pretrained_emb:\n",
    "        hit_count += 1\n",
    "        init_word_embedding_matrix[idx] = pretrained_emb[word]\n",
    "print(\"pretrained word embedding hit rate: {}\".format(hit_count / len(word2idx)))\n",
    "init_word_embedding_matrix = torch.FloatTensor(init_word_embedding_matrix)"
   ]
  },
  {
   "cell_type": "code",
   "execution_count": null,
   "metadata": {},
   "outputs": [],
   "source": [
    "char_encoder_config[\"char_size\"] = len(char2idx)\n",
    "char_encoder_config[\"max_char_num_in_tok\"] = max_char_num_in_tok\n",
    "word_encoder_config[\"init_word_embedding_matrix\"] = init_word_embedding_matrix\n",
    "ent_extractor = TPLinkerNER(char_encoder_config,\n",
    "                            bert_cofig,\n",
    "                            word_encoder_config,\n",
    "                            handshaking_kernel_config,\n",
    "                            activate_enc_fc,\n",
    "                            len(tags),\n",
    "                            )\n",
    "if parallel:\n",
    "    ent_extractor = nn.DataParallel(ent_extractor)\n",
    "ent_extractor = ent_extractor.to(device)"
   ]
  },
  {
   "cell_type": "markdown",
   "metadata": {},
   "source": [
    "# Metrics"
   ]
  },
  {
   "cell_type": "code",
   "execution_count": null,
   "metadata": {},
   "outputs": [],
   "source": [
    "metrics = Metrics(handshaking_tagger)\n",
    "metrics4valid = Metrics(handshaking_tagger4valid)"
   ]
  },
  {
   "cell_type": "markdown",
   "metadata": {},
   "source": [
    "# Train"
   ]
  },
  {
   "cell_type": "code",
   "execution_count": null,
   "metadata": {},
   "outputs": [],
   "source": [
    "# train step\n",
    "def train_step(train_data, optimizer):\n",
    "    ent_extractor.train()\n",
    "    \n",
    "    sample_list, \\\n",
    "    batch_subword_input_ids, \\\n",
    "    batch_attention_mask, \\\n",
    "    batch_token_type_ids, \\\n",
    "    subword2char_span_list, \\\n",
    "    batch_char_input_ids4subword, \\\n",
    "    batch_word_input_ids, \\\n",
    "    batch_subword2word_idx_map, \\\n",
    "    batch_gold_shaking_tag = train_data\n",
    "    \n",
    "    batch_char_input_ids4subword, \\\n",
    "    batch_subword_input_ids, \\\n",
    "    batch_attention_mask, \\\n",
    "    batch_token_type_ids, \\\n",
    "    batch_word_input_ids, \\\n",
    "    batch_subword2word_idx_map, \\\n",
    "    batch_gold_shaking_tag = (batch_char_input_ids4subword.to(device), \n",
    "                              batch_subword_input_ids.to(device), \n",
    "                              batch_attention_mask.to(device), \n",
    "                              batch_token_type_ids.to(device), \n",
    "                              batch_word_input_ids.to(device),\n",
    "                              batch_subword2word_idx_map.to(device),\n",
    "                              batch_gold_shaking_tag.to(device), \n",
    "                                 )\n",
    "    \n",
    "    # zero the parameter gradients\n",
    "    optimizer.zero_grad()\n",
    "    \n",
    "    batch_pred_shaking_outputs = ent_extractor(batch_char_input_ids4subword, \n",
    "                                               batch_subword_input_ids, \n",
    "                                               batch_attention_mask, \n",
    "                                               batch_token_type_ids, \n",
    "                                               batch_word_input_ids, \n",
    "                                               batch_subword2word_idx_map)\n",
    "#     set_trace()\n",
    "    loss = metrics.loss_func(batch_pred_shaking_outputs, batch_gold_shaking_tag)\n",
    "    \n",
    "    # bp\n",
    "#     t1 = time.time()\n",
    "    loss.backward()\n",
    "    optimizer.step()\n",
    "#     print(\"bp: {}\".format(time.time() - t1)) 1s + \n",
    "    \n",
    "    batch_pred_shaking_tag = (batch_pred_shaking_outputs > 0.).long()\n",
    "    sample_acc = metrics.get_sample_accuracy(batch_pred_shaking_tag, batch_gold_shaking_tag)\n",
    "\n",
    "    return loss.item(), sample_acc.item()\n",
    "\n",
    "# valid step\n",
    "def valid_step(valid_data):\n",
    "    ent_extractor.eval()\n",
    "\n",
    "    sample_list, \\\n",
    "    batch_subword_input_ids, \\\n",
    "    batch_attention_mask, \\\n",
    "    batch_token_type_ids, \\\n",
    "    subword2char_span_list, \\\n",
    "    batch_char_input_ids4subword, \\\n",
    "    batch_word_input_ids, \\\n",
    "    batch_subword2word_idx_map, \\\n",
    "    batch_gold_shaking_tag = valid_data\n",
    "    \n",
    "    batch_char_input_ids4subword, \\\n",
    "    batch_subword_input_ids, \\\n",
    "    batch_attention_mask, \\\n",
    "    batch_token_type_ids, \\\n",
    "    batch_word_input_ids, \\\n",
    "    batch_subword2word_idx_map, \\\n",
    "    batch_gold_shaking_tag = (batch_char_input_ids4subword.to(device), \n",
    "                              batch_subword_input_ids.to(device), \n",
    "                              batch_attention_mask.to(device), \n",
    "                              batch_token_type_ids.to(device), \n",
    "                              batch_word_input_ids.to(device),\n",
    "                              batch_subword2word_idx_map.to(device),\n",
    "                              batch_gold_shaking_tag.to(device), \n",
    "                                 )\n",
    "\n",
    "    with torch.no_grad():\n",
    "        batch_pred_shaking_outputs = ent_extractor(batch_char_input_ids4subword, \n",
    "                                               batch_subword_input_ids, \n",
    "                                               batch_attention_mask, \n",
    "                                               batch_token_type_ids, \n",
    "                                               batch_word_input_ids, \n",
    "                                               batch_subword2word_idx_map)\n",
    "        \n",
    "    batch_pred_shaking_tag = (batch_pred_shaking_outputs > 0.).long()\n",
    "    \n",
    "    sample_acc = metrics4valid.get_sample_accuracy(batch_pred_shaking_tag, batch_gold_shaking_tag)\n",
    "    correct_num, pred_num, gold_num = metrics4valid.get_ent_correct_pred_glod_num(sample_list, subword2char_span_list, \n",
    "                                                                                  batch_pred_shaking_tag)\n",
    "    \n",
    "    return sample_acc.item(), correct_num, pred_num, gold_num"
   ]
  },
  {
   "cell_type": "code",
   "execution_count": null,
   "metadata": {},
   "outputs": [],
   "source": [
    "max_f1 = 0.\n",
    "def train_n_valid(train_dataloader, dev_dataloader, optimizer, scheduler, num_epoch):  \n",
    "    def train(dataloader, ep):\n",
    "        t_ep = time.time()\n",
    "        total_loss, total_sample_acc = 0., 0.\n",
    "        for batch_ind, train_data in enumerate(dataloader):\n",
    "            t_batch = time.time()\n",
    "            \n",
    "            scheduler.step(ep * len(dataloader) + batch_ind)\n",
    "            loss, sample_acc = train_step(train_data, optimizer)\n",
    "            \n",
    "            total_loss += loss\n",
    "            total_sample_acc += sample_acc\n",
    "            \n",
    "            avg_loss = total_loss / (batch_ind + 1)\n",
    "            avg_sample_acc = total_sample_acc / (batch_ind + 1)\n",
    "            \n",
    "            batch_print_format = \"\\rexp_name: {}, run_num: {}, epoch: {}/{}, batch: {}/{}, train_loss: {}, t_sample_acc: {}, lr: {}, batch_time: {}------------------------\"\n",
    "            print(batch_print_format.format(experiment_name, run_name, \n",
    "                                            ep + 1, num_epoch, \n",
    "                                            batch_ind + 1, len(dataloader), \n",
    "                                            avg_loss, \n",
    "                                            avg_sample_acc,\n",
    "                                            optimizer.param_groups[0]['lr'],\n",
    "                                            time.time() - t_batch), end=\"\")\n",
    "            \n",
    "            if config[\"wandb\"] is True and batch_ind % hyper_parameters[\"log_interval\"] == 0:\n",
    "                logger.log({\n",
    "                    \"train_loss\": avg_loss,\n",
    "                    \"train_shaking_tag_acc\": avg_sample_acc,\n",
    "                    \"learning_rate\": optimizer.param_groups[0]['lr'],\n",
    "                    \"time\": time.time() - t_ep,\n",
    "                })\n",
    "                \n",
    "    def valid(dataloader, ep):\n",
    "        # valid\n",
    "        t_ep = time.time()\n",
    "        total_sample_acc = 0.\n",
    "        total_correct_num, total_pred_num, total_gold_num = 0., 0., 0.\n",
    "        for batch_ind, dev_data in enumerate(tqdm(dataloader, desc = \"Validating\")):\n",
    "            sample_acc, correct_num, pred_num, gold_num = valid_step(dev_data)\n",
    "            \n",
    "            total_sample_acc += sample_acc\n",
    "            total_correct_num += correct_num\n",
    "            total_pred_num += pred_num\n",
    "            total_gold_num += gold_num\n",
    "\n",
    "        avg_sample_acc = total_sample_acc / len(dataloader)\n",
    "        precision, recall, f1 = metrics4valid.get_scores(total_correct_num, total_pred_num, total_gold_num)\n",
    "\n",
    "        log_dict = {\n",
    "                \"val_shaking_tag_acc\": avg_sample_acc,\n",
    "                \"val_prec\": precision,\n",
    "                \"val_recall\": recall,\n",
    "                \"val_f1\": f1,\n",
    "                \"time\": time.time() - t_ep,\n",
    "            }\n",
    "        pprint(log_dict)\n",
    "        if config[\"wandb\"] is True:\n",
    "            logger.log(log_dict)\n",
    "        \n",
    "        return f1\n",
    "        \n",
    "    for ep in range(num_epoch):\n",
    "        train(train_dataloader, ep)   \n",
    "        print()\n",
    "        valid_f1 = valid(dev_dataloader, ep)\n",
    "        \n",
    "        global max_f1\n",
    "        if valid_f1 >= max_f1: \n",
    "            max_f1 = valid_f1\n",
    "            if max_f1 > config[\"f1_2_save\"]: # save the best model\n",
    "                file_num = len(glob.glob(model_state_dict_dir + \"/*.pt\"))\n",
    "                torch.save(ent_extractor.state_dict(), os.path.join(model_state_dict_dir, \"model_state_dict_{}.pt\".format(file_num)))\n",
    "        print(\"Current valid_f1: {}, Best f1: {}\".format(valid_f1, max_f1))"
   ]
  },
  {
   "cell_type": "code",
   "execution_count": null,
   "metadata": {},
   "outputs": [],
   "source": [
    "# optimizer \n",
    "optimizer = torch.optim.Adam(ent_extractor.parameters(), lr = init_learning_rate)\n",
    "\n",
    "if hyper_parameters[\"scheduler\"] == \"CAWR\":\n",
    "    T_mult = hyper_parameters[\"T_mult\"]\n",
    "    rewarm_epoch_num = hyper_parameters[\"rewarm_epoch_num\"]\n",
    "    scheduler = torch.optim.lr_scheduler.CosineAnnealingWarmRestarts(optimizer, len(train_dataloader) * rewarm_epoch_num, T_mult)\n",
    "    \n",
    "elif hyper_parameters[\"scheduler\"] == \"Step\":\n",
    "    decay_rate = hyper_parameters[\"decay_rate\"]\n",
    "    decay_steps = hyper_parameters[\"decay_steps\"]\n",
    "    scheduler = torch.optim.lr_scheduler.StepLR(optimizer, step_size = decay_steps, gamma = decay_rate)"
   ]
  },
  {
   "cell_type": "code",
   "execution_count": null,
   "metadata": {
    "scrolled": true
   },
   "outputs": [],
   "source": [
    "if not config[\"fr_scratch\"]:\n",
    "    model_state_path = config[\"model_state_dict_path\"]\n",
    "    rel_extractor.load_state_dict(torch.load(model_state_path))\n",
    "    print(\"------------model state {} loaded ----------------\".format(model_state_path.split(\"/\")[-1]))\n",
    "    \n",
    "train_n_valid(train_dataloader, valid_dataloader, optimizer, scheduler, epoch_num)"
   ]
  }
 ],
 "metadata": {
  "kernelspec": {
   "display_name": "Python 3",
   "language": "python",
   "name": "python3"
  },
  "language_info": {
   "codemirror_mode": {
    "name": "ipython",
    "version": 3
   },
   "file_extension": ".py",
   "mimetype": "text/x-python",
   "name": "python",
   "nbconvert_exporter": "python",
   "pygments_lexer": "ipython3",
   "version": "3.6.9"
  }
 },
 "nbformat": 4,
 "nbformat_minor": 2
}
