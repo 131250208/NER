{
 "cells": [
  {
   "cell_type": "code",
   "execution_count": 1,
   "metadata": {},
   "outputs": [],
   "source": [
    "import json\n",
    "import os\n",
    "from tqdm import tqdm\n",
    "import re\n",
    "from IPython.core.debugger import set_trace\n",
    "from pprint import pprint\n",
    "import unicodedata\n",
    "from transformers import AutoModel, BasicTokenizer, BertTokenizerFast\n",
    "import copy\n",
    "import torch\n",
    "import torch.nn as nn\n",
    "import torch.nn.functional as F\n",
    "from torch.utils.data import DataLoader, Dataset\n",
    "import torch.optim as optim\n",
    "import glob\n",
    "import time\n",
    "from ner_common.utils import Preprocessor\n",
    "from tplinker_ner import (HandshakingTaggingScheme,\n",
    "                          DataMaker, \n",
    "                          TPLinkerNER,\n",
    "                          Metrics)\n",
    "import wandb\n",
    "import yaml\n",
    "from glove import Glove\n",
    "import numpy as np"
   ]
  },
  {
   "cell_type": "code",
   "execution_count": 2,
   "metadata": {},
   "outputs": [],
   "source": [
    "try:\n",
    "    from yaml import CLoader as Loader, CDumper as Dumper\n",
    "except ImportError:\n",
    "    from yaml import Loader, Dumper\n",
    "config = yaml.load(open(\"eval_config.yaml\", \"r\"), Loader = yaml.FullLoader)"
   ]
  },
  {
   "cell_type": "code",
   "execution_count": 3,
   "metadata": {},
   "outputs": [],
   "source": [
    "os.environ[\"CUDA_VISIBLE_DEVICES\"] = str(config[\"device_num\"])\n",
    "device = torch.device(\"cuda:0\" if torch.cuda.is_available() else \"cpu\")"
   ]
  },
  {
   "cell_type": "code",
   "execution_count": 4,
   "metadata": {},
   "outputs": [],
   "source": [
    "data_home = config[\"data_home\"]\n",
    "exp_name = config[\"exp_name\"]\n",
    "test_data_path = os.path.join(data_home, exp_name, config[\"test_data\"])\n",
    "meta_path = os.path.join(data_home, exp_name, config[\"meta\"])\n",
    "batch_size = config[\"batch_size\"]\n",
    "visual_field = config[\"visual_field\"]\n",
    "save_res_dir = os.path.join(config[\"save_res_dir\"], exp_name)\n",
    "\n",
    "# for reproductivity\n",
    "torch.backends.cudnn.deterministic = True"
   ]
  },
  {
   "cell_type": "code",
   "execution_count": 5,
   "metadata": {},
   "outputs": [],
   "source": [
    "test_data_path_dict = {}\n",
    "for path in glob.glob(test_data_path):\n",
    "    file_name = re.search(\"(.*?)\\.json\", path.split(\"/\")[-1]).group(1)\n",
    "    test_data_path_dict[file_name] = path"
   ]
  },
  {
   "cell_type": "markdown",
   "metadata": {},
   "source": [
    "# Load Data"
   ]
  },
  {
   "cell_type": "code",
   "execution_count": 6,
   "metadata": {},
   "outputs": [],
   "source": [
    "test_data_dict = {}\n",
    "for file_name, path in test_data_path_dict.items():\n",
    "    test_data_dict[file_name] = json.load(open(path, \"r\", encoding = \"utf-8\"))"
   ]
  },
  {
   "cell_type": "markdown",
   "metadata": {},
   "source": [
    "# Split"
   ]
  },
  {
   "cell_type": "code",
   "execution_count": 7,
   "metadata": {},
   "outputs": [],
   "source": [
    "if config[\"encoder\"] == \"BERT\":\n",
    "    tokenizer = BertTokenizerFast.from_pretrained(config[\"bert_path\"], add_special_tokens = False, do_lower_case = False)\n",
    "    tokenize = tokenizer.tokenize\n",
    "    get_tok2char_span_map = lambda text: tokenizer.encode_plus(text, return_offsets_mapping = True, add_special_tokens = False)[\"offset_mapping\"]\n",
    "# elif config[\"encoder\"] in {\"BiLSTM\", }:\n",
    "#     tokenize = lambda text: text.split(\" \")\n",
    "#     def get_tok2char_span_map(text):\n",
    "#         tokens = text.split(\" \")\n",
    "#         tok2char_span = []\n",
    "#         char_num = 0\n",
    "#         for tok in tokens:\n",
    "#             tok2char_span.append((char_num, char_num + len(tok)))\n",
    "#             char_num += len(tok) + 1 # +1: whitespace\n",
    "#         return tok2char_span"
   ]
  },
  {
   "cell_type": "code",
   "execution_count": 8,
   "metadata": {},
   "outputs": [],
   "source": [
    "preprocessor = Preprocessor(tokenize_func = tokenize, \n",
    "                            get_tok2char_span_map_func = get_tok2char_span_map)"
   ]
  },
  {
   "cell_type": "code",
   "execution_count": 9,
   "metadata": {},
   "outputs": [
    {
     "name": "stderr",
     "output_type": "stream",
     "text": [
      "Calculate the max token number: 100%|██████████| 200/200 [00:00<00:00, 918.56it/s]\n"
     ]
    }
   ],
   "source": [
    "all_data = []\n",
    "for data in list(test_data_dict.values()):\n",
    "    all_data.extend(data)\n",
    "    \n",
    "max_tok_num = 0\n",
    "for sample in tqdm(all_data, desc = \"Calculate the max token number\"):\n",
    "    tokens = tokenize(sample[\"text\"])\n",
    "    max_tok_num = max(len(tokens), max_tok_num)"
   ]
  },
  {
   "cell_type": "code",
   "execution_count": 10,
   "metadata": {},
   "outputs": [
    {
     "name": "stderr",
     "output_type": "stream",
     "text": [
      "Splitting:  26%|██▋       | 53/200 [00:00<00:00, 528.18it/s]"
     ]
    },
    {
     "name": "stdout",
     "output_type": "stream",
     "text": [
      "max_tok_num: 760, lagger than max_test_seq_len: 128, test data will be split!\n",
      "force to split the test dataset!\n"
     ]
    },
    {
     "name": "stderr",
     "output_type": "stream",
     "text": [
      "Splitting: 100%|██████████| 200/200 [00:00<00:00, 523.86it/s]\n"
     ]
    }
   ],
   "source": [
    "split_test_data = False\n",
    "if max_tok_num > config[\"max_test_seq_len\"]:\n",
    "    split_test_data = True\n",
    "    print(\"max_tok_num: {}, lagger than max_test_seq_len: {}, test data will be split!\".format(max_tok_num, config[\"max_test_seq_len\"]))\n",
    "else:\n",
    "    print(\"max_tok_num: {}, less than or equal to max_test_seq_len: {}, no need to split!\".format(max_tok_num, config[\"max_test_seq_len\"]))\n",
    "max_seq_len = min(max_tok_num, config[\"max_test_seq_len\"]) \n",
    "\n",
    "if config[\"force_split\"]:\n",
    "    split_test_data = True\n",
    "    print(\"force to split the test dataset!\")    \n",
    "\n",
    "ori_test_data_dict = copy.deepcopy(test_data_dict)\n",
    "if split_test_data:\n",
    "    test_data_dict = {}\n",
    "    for file_name, data in ori_test_data_dict.items():\n",
    "        test_data_dict[file_name] = preprocessor.split_into_short_samples(data, \n",
    "                                                                          max_seq_len, \n",
    "                                                                          sliding_len = config[\"sliding_len\"], \n",
    "                                                                          encoder = config[\"encoder\"], \n",
    "                                                                          data_type = \"test\")"
   ]
  },
  {
   "cell_type": "code",
   "execution_count": 11,
   "metadata": {},
   "outputs": [
    {
     "name": "stdout",
     "output_type": "stream",
     "text": [
      "test_data: 2593\n"
     ]
    }
   ],
   "source": [
    "for filename, short_data in test_data_dict.items():\n",
    "    print(\"{}: {}\".format(filename, len(short_data)))"
   ]
  },
  {
   "cell_type": "markdown",
   "metadata": {},
   "source": [
    "# Decoder(Tagger)"
   ]
  },
  {
   "cell_type": "code",
   "execution_count": 12,
   "metadata": {},
   "outputs": [
    {
     "name": "stdout",
     "output_type": "stream",
     "text": [
      "Recommended visual_field is greater than current visual_field, reset to rec val: 45\n"
     ]
    }
   ],
   "source": [
    "meta = json.load(open(meta_path, \"r\", encoding = \"utf-8\"))\n",
    "tags = meta[\"tags\"]\n",
    "if meta[\"visual_field_rec\"] > visual_field:\n",
    "    visual_field = meta[\"visual_field_rec\"]\n",
    "    print(\"Recommended visual_field is greater than current visual_field, reset to rec val: {}\".format(visual_field))"
   ]
  },
  {
   "cell_type": "code",
   "execution_count": 13,
   "metadata": {},
   "outputs": [],
   "source": [
    "handshaking_tagger = HandshakingTaggingScheme(tags, max_seq_len, visual_field)"
   ]
  },
  {
   "cell_type": "markdown",
   "metadata": {},
   "source": [
    "# Dataset"
   ]
  },
  {
   "cell_type": "code",
   "execution_count": 14,
   "metadata": {},
   "outputs": [],
   "source": [
    "if config[\"encoder\"] == \"BERT\":\n",
    "    data_maker = DataMaker(handshaking_tagger, tokenizer)\n",
    "    \n",
    "# elif config[\"encoder\"] in {\"BiLSTM\", }:\n",
    "#     token2idx_path = os.path.join(*config[\"token2idx_path\"])\n",
    "#     token2idx = json.load(open(token2idx_path, \"r\", encoding = \"utf-8\"))\n",
    "#     idx2token = {idx:tok for tok, idx in token2idx.items()}\n",
    "#     def text2indices(text, max_seq_len):\n",
    "#         input_ids = []\n",
    "#         tokens = text.split(\" \")\n",
    "#         for tok in tokens:\n",
    "#             if tok not in token2idx:\n",
    "#                 input_ids.append(token2idx['<UNK>'])\n",
    "#             else:\n",
    "#                 input_ids.append(token2idx[tok])\n",
    "#         if len(input_ids) < max_seq_len:\n",
    "#             input_ids.extend([token2idx['<PAD>']] * (max_seq_len - len(input_ids)))\n",
    "#         input_ids = torch.tensor(input_ids[:max_seq_len])\n",
    "#         return input_ids\n",
    "#     data_maker = DataMaker4BiLSTM(text2indices, get_tok2char_span_map, handshaking_tagger)"
   ]
  },
  {
   "cell_type": "code",
   "execution_count": 15,
   "metadata": {},
   "outputs": [],
   "source": [
    "class MyDataset(Dataset):\n",
    "    def __init__(self, data):\n",
    "        self.data = data\n",
    "        \n",
    "    def __getitem__(self, index):\n",
    "        return self.data[index]\n",
    "    \n",
    "    def __len__(self):\n",
    "        return len(self.data)"
   ]
  },
  {
   "cell_type": "markdown",
   "metadata": {},
   "source": [
    "# Model"
   ]
  },
  {
   "cell_type": "code",
   "execution_count": 16,
   "metadata": {},
   "outputs": [],
   "source": [
    "if config[\"encoder\"] == \"BERT\":\n",
    "    encoder = AutoModel.from_pretrained(config[\"bert_path\"])\n",
    "    hidden_size = encoder.config.hidden_size\n",
    "    fake_input = torch.zeros([batch_size, max_seq_len, hidden_size]).to(device)\n",
    "    shaking_type = config[\"shaking_type\"]\n",
    "    ent_extractor = TPLinkerNER(encoder, len(tags), fake_input, shaking_type, visual_field)\n",
    "     \n",
    "# elif config[\"encoder\"] in {\"BiLSTM\", }:\n",
    "#     glove = Glove()\n",
    "#     glove = glove.load(config[\"pretrained_word_embedding_path\"])\n",
    "    \n",
    "#     # prepare embedding matrix\n",
    "#     word_embedding_init_matrix = np.random.normal(-1, 1, size=(len(token2idx), config[\"word_embedding_dim\"]))\n",
    "#     count_in = 0\n",
    "\n",
    "#     # 在预训练词向量中的用该预训练向量\n",
    "#     # 不在预训练集里的用随机向量\n",
    "#     for ind, tok in tqdm(idx2token.items(), desc=\"Embedding matrix initializing...\"):\n",
    "#         if tok in glove.dictionary:\n",
    "#             count_in += 1\n",
    "#             word_embedding_init_matrix[ind] = glove.word_vectors[glove.dictionary[tok]]\n",
    "\n",
    "#     print(\"{:.4f} tokens are in the pretrain word embedding matrix\".format(count_in / len(idx2token))) # 命中预训练词向量的比例\n",
    "#     word_embedding_init_matrix = torch.FloatTensor(word_embedding_init_matrix)\n",
    "    \n",
    "#     fake_inputs = torch.zeros([config[\"test_batch_size\"], max_seq_len, config[\"dec_hidden_size\"]])\n",
    "#     rel_extractor = TPLinkerBiLSTM(word_embedding_init_matrix, \n",
    "#                                    config[\"emb_dropout\"], \n",
    "#                                    config[\"enc_hidden_size\"], \n",
    "#                                    config[\"dec_hidden_size\"],\n",
    "#                                    config[\"rnn_dropout\"],\n",
    "#                                    len(rel2id), \n",
    "#                                    fake_inputs,\n",
    "#                                    config[\"shaking_type\"],\n",
    "#                                   )\n",
    "ent_extractor = ent_extractor.to(device)"
   ]
  },
  {
   "cell_type": "markdown",
   "metadata": {},
   "source": [
    "# Merics"
   ]
  },
  {
   "cell_type": "code",
   "execution_count": 17,
   "metadata": {},
   "outputs": [],
   "source": [
    "metrics = Metrics(handshaking_tagger)"
   ]
  },
  {
   "cell_type": "markdown",
   "metadata": {},
   "source": [
    "# Prediction"
   ]
  },
  {
   "cell_type": "code",
   "execution_count": 18,
   "metadata": {},
   "outputs": [],
   "source": [
    "# get model state paths\n",
    "model_state_dir = config[\"model_state_dict_dir\"]\n",
    "target_run_ids = set(config[\"run_ids\"])\n",
    "run_id2model_state_paths = {}\n",
    "for root, dirs, files in os.walk(model_state_dir):\n",
    "    for file_name in files:\n",
    "        run_id = root.split(\"-\")[-1]\n",
    "        if re.match(\".*model_state.*\\.pt\", file_name) and run_id in target_run_ids:\n",
    "            if run_id not in run_id2model_state_paths:\n",
    "                run_id2model_state_paths[run_id] = []\n",
    "            model_state_path = os.path.join(root, file_name)\n",
    "            run_id2model_state_paths[run_id].append(model_state_path)"
   ]
  },
  {
   "cell_type": "code",
   "execution_count": 19,
   "metadata": {},
   "outputs": [],
   "source": [
    "def get_last_k_paths(path_list, k):\n",
    "    path_list = sorted(path_list, key = lambda x: int(re.search(\"(\\d+)\", x.split(\"/\")[-1]).group(1)))\n",
    "#     pprint(path_list)\n",
    "    return path_list[-k:]"
   ]
  },
  {
   "cell_type": "code",
   "execution_count": 20,
   "metadata": {},
   "outputs": [],
   "source": [
    "# only last k models\n",
    "k = config[\"last_k_model\"]\n",
    "for run_id, path_list in run_id2model_state_paths.items():\n",
    "    run_id2model_state_paths[run_id] = get_last_k_paths(path_list, k)"
   ]
  },
  {
   "cell_type": "code",
   "execution_count": 21,
   "metadata": {},
   "outputs": [],
   "source": [
    "def filter_duplicates(ent_list):\n",
    "    ent_memory_set = set()\n",
    "    filtered_ent_list = []\n",
    "    for ent in ent_list:\n",
    "        ent_memory = \"{}\\u2E80{}\\u2E80{}\".format(ent[\"tok_span\"][0], ent[\"tok_span\"][1], ent[\"type\"])\n",
    "        if ent_memory not in ent_memory_set:\n",
    "            filtered_ent_list.append(ent)\n",
    "            ent_memory_set.add(ent_memory)\n",
    "    return filtered_ent_list"
   ]
  },
  {
   "cell_type": "code",
   "execution_count": 22,
   "metadata": {},
   "outputs": [],
   "source": [
    "def predict(test_data, ori_test_data):\n",
    "    '''\n",
    "    test_data: if split, it would be samples with subtext\n",
    "    ori_test_data: the original data has not been split, used to get original text here\n",
    "    '''\n",
    "    indexed_test_data = data_maker.get_indexed_data(test_data, max_seq_len, data_type = \"test\") # fill up to max_seq_len\n",
    "    test_dataloader = DataLoader(MyDataset(indexed_test_data), \n",
    "                              batch_size = batch_size, \n",
    "                              shuffle = False, \n",
    "                              num_workers = 6,\n",
    "                              drop_last = False,\n",
    "                              collate_fn = lambda data_batch: data_maker.generate_batch(data_batch, data_type = \"test\"),\n",
    "                             )\n",
    "    \n",
    "    pred_sample_list = []\n",
    "    for batch_test_data in tqdm(test_dataloader, desc = \"Predicting\"):\n",
    "        if config[\"encoder\"] == \"BERT\":\n",
    "            sample_list, batch_input_ids, \\\n",
    "            batch_attention_mask, batch_token_type_ids, \\\n",
    "            tok2char_span_list, _ = batch_test_data\n",
    "\n",
    "            batch_input_ids, \\\n",
    "            batch_attention_mask, \\\n",
    "            batch_token_type_ids = (batch_input_ids.to(device), \n",
    "                                      batch_attention_mask.to(device), \n",
    "                                      batch_token_type_ids.to(device))\n",
    "\n",
    "#         elif config[\"encoder\"] in {\"BiLSTM\", }:\n",
    "#             text_id_list, text_list, batch_input_ids, tok2char_span_list = batch_test_data\n",
    "#             batch_input_ids = batch_input_ids.to(device)\n",
    "     \n",
    "        with torch.no_grad():\n",
    "            if config[\"encoder\"] == \"BERT\":\n",
    "                batch_pred_shaking_outputs = ent_extractor(batch_input_ids, \n",
    "                                                          batch_attention_mask, \n",
    "                                                          batch_token_type_ids, \n",
    "                                                         )\n",
    "#             elif config[\"encoder\"] in {\"BiLSTM\", }:\n",
    "#                 batch_pred_shaking_outputs = ent_extractor(batch_input_ids)\n",
    "\n",
    "        batch_pred_shaking_tag = (batch_pred_shaking_outputs > 0.).long()\n",
    "\n",
    "        for ind in range(len(sample_list)):\n",
    "            sample = sample_list[ind]\n",
    "            text = sample[\"text\"]\n",
    "            text_id = sample[\"id\"]\n",
    "            tok2char_span = tok2char_span_list[ind]\n",
    "            pred_shaking_tag = batch_pred_shaking_tag[ind]\n",
    "            tok_offset, char_offset = 0, 0\n",
    "            if split_test_data:\n",
    "                tok_offset, char_offset = sample[\"tok_offset\"], sample[\"char_offset\"]\n",
    "            ent_list = handshaking_tagger.decode_ent(text, \n",
    "                                                     pred_shaking_tag, \n",
    "                                                     tok2char_span, \n",
    "                                                     tok_offset = tok_offset, \n",
    "                                                     char_offset = char_offset)\n",
    "            pred_sample_list.append({\n",
    "                \"text\": text,\n",
    "                \"id\": text_id,\n",
    "                \"entity_list\": ent_list,\n",
    "            })\n",
    "            \n",
    "    # merge\n",
    "    text_id2ent_list = {}\n",
    "    for sample in pred_sample_list:\n",
    "        text_id = sample[\"id\"]\n",
    "        if text_id not in text_id2ent_list:\n",
    "            text_id2ent_list[text_id] = sample[\"entity_list\"]\n",
    "        else:\n",
    "            text_id2ent_list[text_id].extend(sample[\"entity_list\"])\n",
    "\n",
    "    text_id2text = {sample[\"id\"]:sample[\"text\"] for sample in ori_test_data}\n",
    "    merged_pred_sample_list = []\n",
    "    for text_id, ent_list in text_id2ent_list.items():\n",
    "        merged_pred_sample_list.append({\n",
    "            \"id\": text_id,\n",
    "            \"text\": text_id2text[text_id],\n",
    "            \"entity_list\": filter_duplicates(ent_list),\n",
    "        })\n",
    "        \n",
    "    return merged_pred_sample_list"
   ]
  },
  {
   "cell_type": "code",
   "execution_count": 23,
   "metadata": {},
   "outputs": [],
   "source": [
    "def get_test_prf(pred_sample_list, gold_test_data, pattern = \"only_head\"):\n",
    "    text_id2gold_n_pred = {}\n",
    "    for sample in gold_test_data:\n",
    "        text_id = sample[\"id\"]\n",
    "        text_id2gold_n_pred[text_id] = {\n",
    "            \"gold_entity_list\": sample[\"entity_list\"],\n",
    "        }\n",
    "    \n",
    "    for sample in pred_sample_list:\n",
    "        text_id = sample[\"id\"]\n",
    "        text_id2gold_n_pred[text_id][\"pred_entity_list\"] = sample[\"entity_list\"]\n",
    "\n",
    "    correct_num, pred_num, gold_num = 0, 0, 0\n",
    "    for gold_n_pred in text_id2gold_n_pred.values():\n",
    "        gold_ent_list = gold_n_pred[\"gold_entity_list\"]\n",
    "        pred_ent_list = gold_n_pred[\"pred_entity_list\"] if \"pred_entity_list\" in gold_n_pred else []\n",
    "        if pattern == \"only_head_index\":\n",
    "            gold_ent_set = set([\"{}\\u2E80{}\".format(ent[\"char_span\"][0], ent[\"type\"]) for ent in gold_ent_list])\n",
    "            pred_ent_set = set([\"{}\\u2E80{}\".format(ent[\"char_span\"][0], ent[\"type\"]) for ent in pred_ent_list])\n",
    "        elif pattern == \"whole_span\":\n",
    "            gold_ent_set = set([\"{}\\u2E80{}\\u2E80{}\".format(ent[\"char_span\"][0], ent[\"char_span\"][1], ent[\"type\"]) for ent in gold_ent_list])\n",
    "            pred_ent_set = set([\"{}\\u2E80{}\\u2E80{}\".format(ent[\"char_span\"][0], ent[\"char_span\"][1], ent[\"type\"]) for ent in pred_ent_list])\n",
    "        elif pattern == \"whole_text\":\n",
    "            gold_ent_set = set([\"{}\\u2E80{}\".format(ent[\"text\"], ent[\"type\"]) for ent in gold_ent_list])\n",
    "            pred_ent_set = set([\"{}\\u2E80{}\".format(ent[\"text\"], ent[\"type\"]) for ent in pred_ent_list])\n",
    "            \n",
    "        for ent_str in pred_ent_set:\n",
    "            if ent_str in gold_ent_set:\n",
    "                correct_num += 1\n",
    "\n",
    "        pred_num += len(pred_ent_set)\n",
    "        gold_num += len(gold_ent_set)\n",
    "#     print((correct_num, pred_num, gold_num))\n",
    "    prf = metrics.get_prf_scores(correct_num, pred_num, gold_num)\n",
    "    return prf"
   ]
  },
  {
   "cell_type": "code",
   "execution_count": 24,
   "metadata": {},
   "outputs": [
    {
     "name": "stderr",
     "output_type": "stream",
     "text": [
      "Generate indexed data:   5%|▍         | 125/2593 [00:00<00:01, 1248.10it/s]"
     ]
    },
    {
     "name": "stdout",
     "output_type": "stream",
     "text": [
      "run_id: 2i6nefdi, model state model_state_dict_3.pt loaded\n"
     ]
    },
    {
     "name": "stderr",
     "output_type": "stream",
     "text": [
      "Generate indexed data: 100%|██████████| 2593/2593 [00:01<00:00, 1895.34it/s]\n",
      "Predicting: 100%|██████████| 41/41 [00:25<00:00,  1.61it/s]"
     ]
    },
    {
     "name": "stdout",
     "output_type": "stream",
     "text": [
      "test_data: 200 samples with pred entities\n"
     ]
    },
    {
     "name": "stderr",
     "output_type": "stream",
     "text": [
      "\n"
     ]
    }
   ],
   "source": [
    "# predict\n",
    "res_dict = {}\n",
    "predict_statistics = {}\n",
    "for file_name, short_data in test_data_dict.items():\n",
    "    ori_test_data = ori_test_data_dict[file_name]\n",
    "    for run_id, model_path_list in run_id2model_state_paths.items():\n",
    "        save_dir4run = os.path.join(save_res_dir, run_id)\n",
    "        if config[\"save_res\"] and not os.path.exists(save_dir4run):\n",
    "            os.makedirs(save_dir4run)\n",
    "            \n",
    "        for model_state_path in model_path_list:\n",
    "            res_num = re.search(\"(\\d+)\", model_state_path.split(\"/\")[-1]).group(1)\n",
    "            save_path = os.path.join(save_dir4run, \"{}_res_{}.json\".format(file_name, res_num))\n",
    "            \n",
    "            if os.path.exists(save_path):\n",
    "                pred_sample_list = [json.loads(line) for line in open(save_path, \"r\", encoding = \"utf-8\")]\n",
    "                print(\"{} already exists, load it directly!\".format(save_path))\n",
    "            else:\n",
    "                # load model state\n",
    "                ent_extractor.load_state_dict(torch.load(model_state_path))\n",
    "                ent_extractor.eval()\n",
    "                print(\"run_id: {}, model state {} loaded\".format(run_id, model_state_path.split(\"/\")[-1]))\n",
    "\n",
    "                # predict\n",
    "                pred_sample_list = predict(short_data, ori_test_data)\n",
    "            \n",
    "            res_dict[save_path] = pred_sample_list\n",
    "            predict_statistics[save_path] = len([s for s in pred_sample_list if len(s[\"entity_list\"]) > 0])\n",
    "pprint(predict_statistics)"
   ]
  },
  {
   "cell_type": "code",
   "execution_count": 26,
   "metadata": {},
   "outputs": [
    {
     "data": {
      "text/plain": [
       "dict_keys(['test_data'])"
      ]
     },
     "execution_count": 26,
     "metadata": {},
     "output_type": "execute_result"
    }
   ],
   "source": [
    "ori_test_data_dict.keys()"
   ]
  },
  {
   "cell_type": "code",
   "execution_count": 28,
   "metadata": {},
   "outputs": [
    {
     "ename": "AttributeError",
     "evalue": "'Metrics' object has no attribute 'get_prf_scores'",
     "output_type": "error",
     "traceback": [
      "\u001b[0;31m---------------------------------------------------------------------------\u001b[0m",
      "\u001b[0;31mAttributeError\u001b[0m                            Traceback (most recent call last)",
      "\u001b[0;32m<ipython-input-28-943845496303>\u001b[0m in \u001b[0;36m<module>\u001b[0;34m\u001b[0m\n\u001b[1;32m      5\u001b[0m         \u001b[0mfile_name\u001b[0m \u001b[0;34m=\u001b[0m \u001b[0mre\u001b[0m\u001b[0;34m.\u001b[0m\u001b[0mmatch\u001b[0m\u001b[0;34m(\u001b[0m\u001b[0;34m\"(.*?)_res_\\d+.json\"\u001b[0m\u001b[0;34m,\u001b[0m \u001b[0mfile_path\u001b[0m\u001b[0;34m.\u001b[0m\u001b[0msplit\u001b[0m\u001b[0;34m(\u001b[0m\u001b[0;34m\"/\"\u001b[0m\u001b[0;34m)\u001b[0m\u001b[0;34m[\u001b[0m\u001b[0;34m-\u001b[0m\u001b[0;36m1\u001b[0m\u001b[0;34m]\u001b[0m\u001b[0;34m)\u001b[0m\u001b[0;34m.\u001b[0m\u001b[0mgroup\u001b[0m\u001b[0;34m(\u001b[0m\u001b[0;36m1\u001b[0m\u001b[0;34m)\u001b[0m\u001b[0;34m\u001b[0m\u001b[0;34m\u001b[0m\u001b[0m\n\u001b[1;32m      6\u001b[0m         \u001b[0mgold_test_data\u001b[0m \u001b[0;34m=\u001b[0m \u001b[0mori_test_data_dict\u001b[0m\u001b[0;34m[\u001b[0m\u001b[0mfile_name\u001b[0m\u001b[0;34m]\u001b[0m\u001b[0;34m\u001b[0m\u001b[0;34m\u001b[0m\u001b[0m\n\u001b[0;32m----> 7\u001b[0;31m         \u001b[0mprf\u001b[0m \u001b[0;34m=\u001b[0m \u001b[0mget_test_prf\u001b[0m\u001b[0;34m(\u001b[0m\u001b[0mpred_samples\u001b[0m\u001b[0;34m,\u001b[0m \u001b[0mgold_test_data\u001b[0m\u001b[0;34m,\u001b[0m \u001b[0mpattern\u001b[0m \u001b[0;34m=\u001b[0m \u001b[0mconfig\u001b[0m\u001b[0;34m[\u001b[0m\u001b[0;34m\"correct\"\u001b[0m\u001b[0;34m]\u001b[0m\u001b[0;34m)\u001b[0m\u001b[0;34m\u001b[0m\u001b[0;34m\u001b[0m\u001b[0m\n\u001b[0m\u001b[1;32m      8\u001b[0m         \u001b[0mfilepath2scores\u001b[0m\u001b[0;34m[\u001b[0m\u001b[0mfile_path\u001b[0m\u001b[0;34m]\u001b[0m \u001b[0;34m=\u001b[0m \u001b[0mprf\u001b[0m\u001b[0;34m\u001b[0m\u001b[0;34m\u001b[0m\u001b[0m\n\u001b[1;32m      9\u001b[0m     \u001b[0mprint\u001b[0m\u001b[0;34m(\u001b[0m\u001b[0;34m\"---------------- Results -----------------------\"\u001b[0m\u001b[0;34m)\u001b[0m\u001b[0;34m\u001b[0m\u001b[0;34m\u001b[0m\u001b[0m\n",
      "\u001b[0;32m<ipython-input-23-484854049cb3>\u001b[0m in \u001b[0;36mget_test_prf\u001b[0;34m(pred_sample_list, gold_test_data, pattern)\u001b[0m\n\u001b[1;32m     32\u001b[0m         \u001b[0mgold_num\u001b[0m \u001b[0;34m+=\u001b[0m \u001b[0mlen\u001b[0m\u001b[0;34m(\u001b[0m\u001b[0mgold_ent_set\u001b[0m\u001b[0;34m)\u001b[0m\u001b[0;34m\u001b[0m\u001b[0;34m\u001b[0m\u001b[0m\n\u001b[1;32m     33\u001b[0m \u001b[0;31m#     print((correct_num, pred_num, gold_num))\u001b[0m\u001b[0;34m\u001b[0m\u001b[0;34m\u001b[0m\u001b[0;34m\u001b[0m\u001b[0m\n\u001b[0;32m---> 34\u001b[0;31m     \u001b[0mprf\u001b[0m \u001b[0;34m=\u001b[0m \u001b[0mmetrics\u001b[0m\u001b[0;34m.\u001b[0m\u001b[0mget_prf_scores\u001b[0m\u001b[0;34m(\u001b[0m\u001b[0mcorrect_num\u001b[0m\u001b[0;34m,\u001b[0m \u001b[0mpred_num\u001b[0m\u001b[0;34m,\u001b[0m \u001b[0mgold_num\u001b[0m\u001b[0;34m)\u001b[0m\u001b[0;34m\u001b[0m\u001b[0;34m\u001b[0m\u001b[0m\n\u001b[0m\u001b[1;32m     35\u001b[0m     \u001b[0;32mreturn\u001b[0m \u001b[0mprf\u001b[0m\u001b[0;34m\u001b[0m\u001b[0;34m\u001b[0m\u001b[0m\n",
      "\u001b[0;31mAttributeError\u001b[0m: 'Metrics' object has no attribute 'get_prf_scores'"
     ]
    }
   ],
   "source": [
    "# score\n",
    "if config[\"score\"]:\n",
    "    filepath2scores = {}\n",
    "    for file_path, pred_samples in res_dict.items():\n",
    "        file_name = re.match(\"(.*?)_res_\\d+.json\", file_path.split(\"/\")[-1]).group(1)\n",
    "        gold_test_data = ori_test_data_dict[file_name]\n",
    "        prf = get_test_prf(pred_samples, gold_test_data, pattern = config[\"correct\"])\n",
    "        filepath2scores[file_path] = prf\n",
    "    print(\"---------------- Results -----------------------\")\n",
    "    pprint(filepath2scores)"
   ]
  },
  {
   "cell_type": "code",
   "execution_count": 33,
   "metadata": {},
   "outputs": [
    {
     "name": "stderr",
     "output_type": "stream",
     "text": [
      "check character level span: 100%|██████████| 4771/4771 [00:00<00:00, 53520.72it/s]\n",
      "check character level span: 100%|██████████| 4780/4780 [00:00<00:00, 52081.63it/s]\n",
      "check character level span: 100%|██████████| 4774/4774 [00:00<00:00, 55478.89it/s]\n",
      "check character level span: 100%|██████████| 4767/4767 [00:00<00:00, 73212.45it/s]\n",
      "check character level span: 100%|██████████| 4761/4761 [00:00<00:00, 74656.91it/s]\n",
      "check character level span: 100%|██████████| 4784/4784 [00:00<00:00, 69534.43it/s]\n",
      "check character level span: 100%|██████████| 4775/4775 [00:00<00:00, 68224.11it/s]\n",
      "check character level span: 100%|██████████| 4774/4774 [00:00<00:00, 67872.26it/s]\n",
      "check character level span: 100%|██████████| 4764/4764 [00:00<00:00, 72290.47it/s]\n",
      "check character level span: 100%|██████████| 4769/4769 [00:00<00:00, 66220.30it/s]\n",
      "check character level span: 100%|██████████| 4782/4782 [00:00<00:00, 56303.49it/s]\n",
      "check character level span: 100%|██████████| 4776/4776 [00:00<00:00, 61822.00it/s]\n",
      "check character level span: 100%|██████████| 4779/4779 [00:00<00:00, 55350.05it/s]\n",
      "check character level span: 100%|██████████| 4770/4770 [00:00<00:00, 52725.45it/s]\n",
      "check character level span: 100%|██████████| 4770/4770 [00:00<00:00, 59003.62it/s]\n",
      "check character level span: 100%|██████████| 4771/4771 [00:00<00:00, 42269.61it/s]\n",
      "check character level span: 100%|██████████| 4768/4768 [00:00<00:00, 56611.59it/s]\n",
      "check character level span: 100%|██████████| 4773/4773 [00:00<00:00, 57689.34it/s]\n",
      "check character level span: 100%|██████████| 4762/4762 [00:00<00:00, 57319.36it/s]\n",
      "check character level span: 100%|██████████| 4776/4776 [00:00<00:00, 58312.90it/s]\n",
      "check character level span: 100%|██████████| 4760/4760 [00:00<00:00, 60291.92it/s]\n",
      "check character level span: 100%|██████████| 4759/4759 [00:00<00:00, 61859.09it/s]\n",
      "check character level span: 100%|██████████| 4763/4763 [00:00<00:00, 63534.50it/s]\n",
      "check character level span: 100%|██████████| 4744/4744 [00:00<00:00, 66334.11it/s]\n",
      "check character level span: 100%|██████████| 4749/4749 [00:00<00:00, 71387.99it/s]\n"
     ]
    }
   ],
   "source": [
    "# check\n",
    "for path, res in res_dict.items():\n",
    "    for sample in tqdm(res, \"check character level span\"):\n",
    "        text = sample[\"text\"]\n",
    "        for ent in sample[\"entity_list\"]:\n",
    "            assert ent[\"text\"] == text[ent[\"char_span\"][0]:ent[\"char_span\"][1]]"
   ]
  },
  {
   "cell_type": "code",
   "execution_count": 27,
   "metadata": {},
   "outputs": [
    {
     "name": "stderr",
     "output_type": "stream",
     "text": [
      "Output: 100%|██████████| 4839/4839 [00:00<00:00, 9454.97it/s]\n",
      "Output: 100%|██████████| 4839/4839 [00:00<00:00, 8926.92it/s] \n",
      "Output: 100%|██████████| 4839/4839 [00:00<00:00, 9085.69it/s] \n",
      "Output: 100%|██████████| 4839/4839 [00:00<00:00, 12959.29it/s]\n",
      "Output: 100%|██████████| 4761/4761 [00:00<00:00, 12869.94it/s]\n",
      "Output: 100%|██████████| 4839/4839 [00:00<00:00, 13032.98it/s]\n",
      "Output: 100%|██████████| 4839/4839 [00:00<00:00, 12876.15it/s]\n",
      "Output: 100%|██████████| 4839/4839 [00:00<00:00, 12861.10it/s]\n",
      "Output: 100%|██████████| 4839/4839 [00:00<00:00, 13974.08it/s]\n",
      "Output: 100%|██████████| 4769/4769 [00:00<00:00, 12015.75it/s]\n",
      "Output: 100%|██████████| 4839/4839 [00:00<00:00, 10511.12it/s]\n",
      "Output: 100%|██████████| 4839/4839 [00:00<00:00, 10832.85it/s]\n",
      "Output: 100%|██████████| 4839/4839 [00:00<00:00, 11337.48it/s]\n",
      "Output: 100%|██████████| 4839/4839 [00:00<00:00, 11767.31it/s]\n",
      "Output: 100%|██████████| 4770/4770 [00:00<00:00, 12754.11it/s]\n",
      "Output: 100%|██████████| 4839/4839 [00:00<00:00, 9195.25it/s]\n",
      "Output: 100%|██████████| 4839/4839 [00:00<00:00, 13129.73it/s]\n",
      "Output: 100%|██████████| 4839/4839 [00:00<00:00, 12885.86it/s]\n",
      "Output: 100%|██████████| 4839/4839 [00:00<00:00, 12980.69it/s]\n",
      "Output: 100%|██████████| 4839/4839 [00:00<00:00, 12949.60it/s]\n",
      "Output: 100%|██████████| 4839/4839 [00:00<00:00, 10087.76it/s]\n",
      "Output: 100%|██████████| 4839/4839 [00:00<00:00, 10473.55it/s]\n",
      "Output: 100%|██████████| 4839/4839 [00:00<00:00, 10975.01it/s]\n",
      "Output: 100%|██████████| 4839/4839 [00:00<00:00, 11210.49it/s]\n",
      "Output: 100%|██████████| 4749/4749 [00:00<00:00, 11770.77it/s]\n"
     ]
    }
   ],
   "source": [
    "# save \n",
    "if config[\"save_res\"]:\n",
    "    for path, res in res_dict.items():\n",
    "        with open(path, \"w\", encoding = \"utf-8\") as file_out:\n",
    "            for sample in tqdm(res, desc = \"Output\"):\n",
    "                if len(sample[\"entity_list\"]) == 0:\n",
    "                    continue\n",
    "                json_line = json.dumps(sample, ensure_ascii = False)     \n",
    "                file_out.write(\"{}\\n\".format(json_line))"
   ]
  }
 ],
 "metadata": {
  "kernelspec": {
   "display_name": "Python 3",
   "language": "python",
   "name": "python3"
  },
  "language_info": {
   "codemirror_mode": {
    "name": "ipython",
    "version": 3
   },
   "file_extension": ".py",
   "mimetype": "text/x-python",
   "name": "python",
   "nbconvert_exporter": "python",
   "pygments_lexer": "ipython3",
   "version": "3.7.4"
  }
 },
 "nbformat": 4,
 "nbformat_minor": 2
}
