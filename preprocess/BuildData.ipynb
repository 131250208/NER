{
 "cells": [
  {
   "cell_type": "code",
   "execution_count": 1,
   "metadata": {},
   "outputs": [],
   "source": [
    "import os\n",
    "import json\n",
    "import re\n",
    "from tqdm import tqdm\n",
    "import copy\n",
    "from ner_common.utils import Preprocessor\n",
    "from transformers import BertTokenizerFast\n",
    "import yaml"
   ]
  },
  {
   "cell_type": "code",
   "execution_count": 2,
   "metadata": {},
   "outputs": [],
   "source": [
    "try:\n",
    "    from yaml import CLoader as Loader, CDumper as Dumper\n",
    "except ImportError:\n",
    "    from yaml import Loader, Dumper\n",
    "config = yaml.load(open(\"build_data_config.yaml\", \"r\"), Loader = yaml.FullLoader)"
   ]
  },
  {
   "cell_type": "code",
   "execution_count": 3,
   "metadata": {},
   "outputs": [],
   "source": [
    "exp_name = config[\"exp_name\"]\n",
    "data_in_dir = os.path.join(config[\"data_in_dir\"], exp_name)\n",
    "data_out_dir = os.path.join(config[\"data_out_dir\"], exp_name)\n",
    "if not os.path.exists(data_out_dir):\n",
    "    os.makedirs(data_output_dir)\n",
    "bert_path = config[\"bert_path\"]"
   ]
  },
  {
   "cell_type": "code",
   "execution_count": 4,
   "metadata": {},
   "outputs": [],
   "source": [
    "tokenizer = BertTokenizerFast.from_pretrained(bert_path, add_special_tokens = False, do_lower_case = False)\n",
    "def get_tok2char_span_map(text):\n",
    "    tok2char_span = tokenizer.encode_plus(text, \n",
    "                                           return_offsets_mapping = True, \n",
    "                                           add_special_tokens = False)[\"offset_mapping\"]\n",
    "    return tok2char_span\n",
    "\n",
    "tokenize = lambda text: tokenizer.tokenize(text)\n",
    "\n",
    "# preprocessor\n",
    "preprocessor = Preprocessor(tokenize, get_tok2char_span_map)"
   ]
  },
  {
   "cell_type": "code",
   "execution_count": 5,
   "metadata": {},
   "outputs": [],
   "source": [
    "# transform\n",
    "def transform_data(ori_data):\n",
    "    normal_data = []\n",
    "    for sample in tqdm(ori_data, desc = \"Transforming\"):\n",
    "        new_sample = {\n",
    "            \"id\": sample[\"id\"],\n",
    "            \"text\": sample[\"text\"],\n",
    "        }\n",
    "        new_ent_list = []\n",
    "        for ent in sample[\"entities\"]:\n",
    "            new_ent_list.append({\n",
    "                \"text\": ent[\"entity\"],\n",
    "                \"type\": ent[\"type\"],\n",
    "                \"char_span\": [ent[\"start\"], ent[\"end\"]],\n",
    "            })\n",
    "        new_sample[\"entity_list\"] = new_ent_list\n",
    "        normal_data.append(new_sample)\n",
    "    return normal_data"
   ]
  },
  {
   "cell_type": "code",
   "execution_count": 6,
   "metadata": {},
   "outputs": [],
   "source": [
    "# check tok span\n",
    "def check_tok_span(data):\n",
    "    entities_to_fix = []\n",
    "    for sample in tqdm(data):\n",
    "        text = sample[\"text\"]\n",
    "        tok2char_span = get_tok2char_span_map(text)\n",
    "        for ent in sample[\"entity_list\"]:\n",
    "            tok_span = ent[\"tok_span\"]\n",
    "            char_span_list = tok2char_span[tok_span[0]:tok_span[1]]\n",
    "            char_span = [char_span_list[0][0], char_span_list[-1][1]]\n",
    "            text_extr = text[char_span[0]:char_span[1]]\n",
    "            gold_char_span = ent[\"char_span\"]\n",
    "            if not(char_span[0] == gold_char_span[0] and char_span[1] == gold_char_span[1] and text_extr == ent[\"text\"]):\n",
    "                bad_ent = copy.deepcopy(ent)\n",
    "                bad_ent[\"text_extr\"] = text_extr\n",
    "                entities_to_fix.append(bad_ent)\n",
    "    \n",
    "    ent2fix_memory = set()\n",
    "    for ent in entities_to_fix:\n",
    "        ent2fix_memory.add(\"ori: {} --- extr: {}\".format(ent[\"text\"], ent[\"text_extr\"]))\n",
    "    print(\"span error num: {}\".format(len(ent2fix_memory)))"
   ]
  },
  {
   "cell_type": "code",
   "execution_count": 10,
   "metadata": {
    "scrolled": true
   },
   "outputs": [
    {
     "name": "stderr",
     "output_type": "stream",
     "text": [
      "clean: 100%|██████████| 7743/7743 [00:12<00:00, 613.91it/s]\n",
      "Adding char level spans: 100%|██████████| 7743/7743 [00:13<00:00, 589.91it/s]\n",
      "Adding token level span: 100%|██████████| 7743/7743 [00:28<00:00, 267.30it/s]\n",
      "clean: 100%|██████████| 1935/1935 [00:02<00:00, 671.08it/s]\n",
      "Adding char level spans: 100%|██████████| 1935/1935 [00:03<00:00, 558.71it/s]\n",
      "Adding token level span: 100%|██████████| 1935/1935 [00:07<00:00, 275.68it/s]\n",
      "clean: 100%|██████████| 7743/7743 [00:11<00:00, 700.81it/s]\n",
      "Adding char level spans: 100%|██████████| 7743/7743 [00:12<00:00, 599.36it/s]\n",
      "Adding token level span: 100%|██████████| 7743/7743 [00:32<00:00, 240.15it/s]\n",
      "clean: 100%|██████████| 7743/7743 [00:11<00:00, 668.78it/s]\n",
      "Adding char level spans: 100%|██████████| 7743/7743 [00:13<00:00, 564.16it/s]\n",
      "Adding token level span: 100%|██████████| 7743/7743 [00:28<00:00, 271.86it/s]\n",
      "clean: 100%|██████████| 1936/1936 [00:02<00:00, 646.68it/s]\n",
      "Adding char level spans: 100%|██████████| 1936/1936 [00:02<00:00, 665.50it/s]\n",
      "Adding token level span: 100%|██████████| 1936/1936 [00:08<00:00, 235.87it/s]\n",
      "clean: 100%|██████████| 1936/1936 [00:03<00:00, 622.97it/s]\n",
      "Adding char level spans: 100%|██████████| 1936/1936 [00:03<00:00, 573.48it/s]\n",
      "Adding token level span: 100%|██████████| 1936/1936 [00:06<00:00, 277.43it/s]\n",
      "clean: 100%|██████████| 7744/7744 [00:10<00:00, 748.78it/s] \n",
      "Adding char level spans: 100%|██████████| 7744/7744 [00:13<00:00, 565.73it/s]\n",
      "Adding token level span: 100%|██████████| 7744/7744 [00:27<00:00, 281.97it/s]\n",
      "clean: 100%|██████████| 1936/1936 [00:03<00:00, 631.33it/s]\n",
      "Adding char level spans: 100%|██████████| 1936/1936 [00:03<00:00, 542.37it/s]\n",
      "Adding token level span: 100%|██████████| 1936/1936 [00:07<00:00, 244.84it/s]\n",
      "clean: 100%|██████████| 1936/1936 [00:03<00:00, 519.28it/s]\n",
      "Adding char level spans: 100%|██████████| 1936/1936 [00:03<00:00, 571.67it/s]\n",
      "Adding token level span: 100%|██████████| 1936/1936 [00:08<00:00, 241.42it/s]\n",
      "clean: 100%|██████████| 7743/7743 [00:12<00:00, 630.60it/s]\n",
      "Adding char level spans: 100%|██████████| 7743/7743 [00:12<00:00, 596.69it/s]\n",
      "Adding token level span: 100%|██████████| 7743/7743 [00:30<00:00, 252.66it/s]\n"
     ]
    }
   ],
   "source": [
    "# add char span and tok span\n",
    "tags = set()\n",
    "visual_field_rec = 0\n",
    "for root, dirs, files in os.walk(data_in_dir):\n",
    "    for file_name in files:\n",
    "        file_path = os.path.join(root, file_name)\n",
    "        data = json.load(open(file_path, \"r\", encoding = \"utf-8\"))\n",
    "        assert len(data) > 0\n",
    "        if \"entity_list\" in data[0]: # train or valid\n",
    "            if config[\"char_span\"] is True:\n",
    "                data, bad_samples = preprocessor.clean_data_w_span(data)\n",
    "                print(\"remove bad samples: {}\".format(len(bad_samples)))\n",
    "                preprocessor.add_tok_span(data)\n",
    "            else:\n",
    "                data = preprocessor.clean_data_wo_span(data)\n",
    "                preprocessor.add_char_span(data)\n",
    "                preprocessor.add_tok_span(data)\n",
    "            for sample in data:\n",
    "                for ent in sample[\"entity_list\"]:\n",
    "                    tokens = tokenizer.tokenize(ent[\"text\"])\n",
    "                    visual_field_rec = max(visual_field_rec, len(tokens))\n",
    "                    tags.add(ent[\"type\"])\n",
    "        else: # test\n",
    "            if config[\"clean_test_data\"]:\n",
    "                data = preprocessor.clean_data_wo_span(data, data_type = \"test\")\n",
    "        # output\n",
    "        output_path = os.path.join(data_out_dir, file_name)\n",
    "        json.dump(data, open(output_path, \"w\", encoding = \"utf-8\"), ensure_ascii = False)"
   ]
  },
  {
   "cell_type": "code",
   "execution_count": 11,
   "metadata": {},
   "outputs": [],
   "source": [
    "# save meta\n",
    "meta = {\n",
    "    \"tags\": list(tags),\n",
    "    \"visual_field_rec\": visual_field_rec,\n",
    "}\n",
    "meta_path = os.path.join(data_out_dir, \"meta.json\")\n",
    "json.dump(meta, open(meta_path, \"w\", encoding = \"utf-8\"), ensure_ascii = False)"
   ]
  },
  {
   "cell_type": "markdown",
   "metadata": {},
   "source": [
    "```\n",
    "# 问一下群里，这种情况是否以原文为准\n",
    "vaginal bacteria --- extr: vaginal bacterial\n",
    "thyroid disease --- extr: thyroid diseases\n",
    "'ori: symptom --- extr: asymptoma'\n",
    "```     "
   ]
  }
 ],
 "metadata": {
  "kernelspec": {
   "display_name": "Python 3",
   "language": "python",
   "name": "python3"
  },
  "language_info": {
   "codemirror_mode": {
    "name": "ipython",
    "version": 3
   },
   "file_extension": ".py",
   "mimetype": "text/x-python",
   "name": "python",
   "nbconvert_exporter": "python",
   "pygments_lexer": "ipython3",
   "version": "3.7.4"
  }
 },
 "nbformat": 4,
 "nbformat_minor": 2
}
