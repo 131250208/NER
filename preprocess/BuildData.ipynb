{
 "cells": [
  {
   "cell_type": "code",
   "execution_count": 1,
   "metadata": {},
   "outputs": [],
   "source": [
    "import os\n",
    "import json\n",
    "import re\n",
    "from tqdm import tqdm\n",
    "import copy\n",
    "from ner_common.utils import Preprocessor\n",
    "from transformers import BertTokenizerFast\n",
    "import yaml\n",
    "from pprint import pprint"
   ]
  },
  {
   "cell_type": "code",
   "execution_count": 2,
   "metadata": {},
   "outputs": [],
   "source": [
    "try:\n",
    "    from yaml import CLoader as Loader, CDumper as Dumper\n",
    "except ImportError:\n",
    "    from yaml import Loader, Dumper\n",
    "config = yaml.load(open(\"build_data_config.yaml\", \"r\"), Loader = yaml.FullLoader)"
   ]
  },
  {
   "cell_type": "code",
   "execution_count": 3,
   "metadata": {},
   "outputs": [],
   "source": [
    "exp_name = config[\"exp_name\"]\n",
    "data_in_dir = os.path.join(config[\"data_in_dir\"], exp_name)\n",
    "data_out_dir = os.path.join(config[\"data_out_dir\"], exp_name)\n",
    "if not os.path.exists(data_out_dir):\n",
    "    os.makedirs(data_out_dir)\n",
    "bert_path = config[\"bert_path\"]"
   ]
  },
  {
   "cell_type": "code",
   "execution_count": 4,
   "metadata": {},
   "outputs": [],
   "source": [
    "tokenizer = BertTokenizerFast.from_pretrained(bert_path, add_special_tokens = False, do_lower_case = False)\n",
    "def get_tok2char_span_map(text):\n",
    "    tok2char_span = tokenizer.encode_plus(text, \n",
    "                                           return_offsets_mapping = True, \n",
    "                                           add_special_tokens = False)[\"offset_mapping\"]\n",
    "    return tok2char_span\n",
    "\n",
    "tokenize = lambda text: tokenizer.tokenize(text)\n",
    "\n",
    "# preprocessor\n",
    "preprocessor = Preprocessor(tokenize, get_tok2char_span_map)"
   ]
  },
  {
   "cell_type": "code",
   "execution_count": 5,
   "metadata": {},
   "outputs": [],
   "source": [
    "# check tok span\n",
    "def check_tok_span(data):\n",
    "    entities_to_fix = []\n",
    "    for sample in tqdm(data, desc = \"check tok spans\"):\n",
    "        text = sample[\"text\"]\n",
    "        tok2char_span = get_tok2char_span_map(text)\n",
    "        for ent in sample[\"entity_list\"]:\n",
    "            tok_span = ent[\"tok_span\"]\n",
    "            char_span_list = tok2char_span[tok_span[0]:tok_span[1]]\n",
    "            char_span = [char_span_list[0][0], char_span_list[-1][1]]\n",
    "            text_extr = text[char_span[0]:char_span[1]]\n",
    "            gold_char_span = ent[\"char_span\"]\n",
    "            if not(char_span[0] == gold_char_span[0] and char_span[1] == gold_char_span[1] and text_extr == ent[\"text\"]):\n",
    "                bad_ent = copy.deepcopy(ent)\n",
    "                bad_ent[\"text_extr\"] = text_extr\n",
    "                entities_to_fix.append(bad_ent)\n",
    "    \n",
    "    span_error_memory = set()\n",
    "    for ent in entities_to_fix:\n",
    "        span_error_memory.add(\"gold: {} --- extr: {}\".format(ent[\"text\"], ent[\"text_extr\"]))\n",
    "    return span_error_memory"
   ]
  },
  {
   "cell_type": "code",
   "execution_count": 6,
   "metadata": {},
   "outputs": [
    {
     "name": "stderr",
     "output_type": "stream",
     "text": [
      "loading data: 100%|██████████| 11/11 [00:02<00:00,  4.13it/s]\n"
     ]
    }
   ],
   "source": [
    "# load data\n",
    "file_name2data = {}\n",
    "for root, dirs, files in os.walk(data_in_dir):\n",
    "    for file_name in tqdm(files, desc = \"loading data\"):\n",
    "        file_path = os.path.join(root, file_name)\n",
    "        data = json.load(open(file_path, \"r\", encoding = \"utf-8\"))\n",
    "        assert len(data) > 0\n",
    "        file_name2data[file_name] = data"
   ]
  },
  {
   "cell_type": "code",
   "execution_count": 7,
   "metadata": {
    "scrolled": true
   },
   "outputs": [
    {
     "name": "stderr",
     "output_type": "stream",
     "text": [
      "clean: 100%|██████████| 7743/7743 [00:04<00:00, 1634.78it/s]\n",
      "Adding char level spans: 100%|██████████| 7743/7743 [00:05<00:00, 1449.79it/s]\n",
      "cleaning: 100%|██████████| 7743/7743 [00:00<00:00, 46849.43it/s]\n",
      "Adding token level span: 100%|██████████| 7743/7743 [00:11<00:00, 695.43it/s]\n",
      "check tok spans: 100%|██████████| 7743/7743 [00:06<00:00, 1248.34it/s]\n",
      "clean: 100%|██████████| 1935/1935 [00:01<00:00, 1650.83it/s]\n",
      "Adding char level spans: 100%|██████████| 1935/1935 [00:01<00:00, 1572.47it/s]\n",
      "cleaning: 100%|██████████| 1935/1935 [00:00<00:00, 50369.13it/s]\n",
      "Adding token level span: 100%|██████████| 1935/1935 [00:03<00:00, 643.10it/s]\n",
      "check tok spans: 100%|██████████| 1935/1935 [00:01<00:00, 1182.29it/s]\n",
      "clean: 100%|██████████| 7743/7743 [00:04<00:00, 1654.95it/s]\n",
      "Adding char level spans: 100%|██████████| 7743/7743 [00:04<00:00, 1571.08it/s]\n",
      "cleaning: 100%|██████████| 7743/7743 [00:00<00:00, 50058.57it/s]\n",
      "Adding token level span: 100%|██████████| 7743/7743 [00:11<00:00, 694.42it/s]\n",
      "check tok spans: 100%|██████████| 7743/7743 [00:06<00:00, 1238.72it/s]\n",
      "clean: 100%|██████████| 7743/7743 [00:04<00:00, 1671.59it/s]\n",
      "Adding char level spans: 100%|██████████| 7743/7743 [00:05<00:00, 1435.64it/s]\n",
      "cleaning: 100%|██████████| 7743/7743 [00:00<00:00, 50143.04it/s]\n",
      "Adding token level span: 100%|██████████| 7743/7743 [00:11<00:00, 694.87it/s]\n",
      "check tok spans: 100%|██████████| 7743/7743 [00:06<00:00, 1246.71it/s]\n",
      "clean: 100%|██████████| 1936/1936 [00:01<00:00, 1678.27it/s]\n",
      "Adding char level spans: 100%|██████████| 1936/1936 [00:01<00:00, 1607.88it/s]\n",
      "cleaning: 100%|██████████| 1936/1936 [00:00<00:00, 48996.69it/s]\n",
      "Adding token level span: 100%|██████████| 1936/1936 [00:02<00:00, 754.74it/s]\n",
      "check tok spans: 100%|██████████| 1936/1936 [00:01<00:00, 1233.26it/s]\n",
      "clean: 100%|██████████| 1936/1936 [00:01<00:00, 1662.34it/s]\n",
      "Adding char level spans: 100%|██████████| 1936/1936 [00:01<00:00, 1700.33it/s]\n",
      "cleaning: 100%|██████████| 1936/1936 [00:00<00:00, 50929.65it/s]\n",
      "Adding token level span: 100%|██████████| 1936/1936 [00:03<00:00, 622.47it/s]\n",
      "check tok spans: 100%|██████████| 1936/1936 [00:01<00:00, 1223.43it/s]\n",
      "clean: 100%|██████████| 7744/7744 [00:04<00:00, 1673.98it/s]\n",
      "Adding char level spans: 100%|██████████| 7744/7744 [00:04<00:00, 1602.94it/s]\n",
      "cleaning: 100%|██████████| 7744/7744 [00:00<00:00, 47850.37it/s]\n",
      "Adding token level span: 100%|██████████| 7744/7744 [00:11<00:00, 689.10it/s]\n",
      "check tok spans: 100%|██████████| 7744/7744 [00:06<00:00, 1252.96it/s]\n",
      "clean: 100%|██████████| 1936/1936 [00:01<00:00, 1741.07it/s]\n",
      "Adding char level spans: 100%|██████████| 1936/1936 [00:01<00:00, 1607.35it/s]\n",
      "cleaning: 100%|██████████| 1936/1936 [00:00<00:00, 50462.50it/s]\n",
      "Adding token level span: 100%|██████████| 1936/1936 [00:02<00:00, 794.15it/s]\n",
      "check tok spans: 100%|██████████| 1936/1936 [00:01<00:00, 1269.28it/s]\n",
      "clean: 100%|██████████| 1936/1936 [00:01<00:00, 1676.52it/s]\n",
      "Adding char level spans: 100%|██████████| 1936/1936 [00:01<00:00, 1552.31it/s]\n",
      "cleaning: 100%|██████████| 1936/1936 [00:00<00:00, 49673.17it/s]\n",
      "Adding token level span: 100%|██████████| 1936/1936 [00:03<00:00, 622.27it/s]\n",
      "check tok spans: 100%|██████████| 1936/1936 [00:01<00:00, 1240.79it/s]\n",
      "clean: 100%|██████████| 7743/7743 [00:04<00:00, 1683.74it/s]\n",
      "Adding char level spans: 100%|██████████| 7743/7743 [00:04<00:00, 1582.04it/s]\n",
      "cleaning: 100%|██████████| 7743/7743 [00:00<00:00, 48847.56it/s]\n",
      "Adding token level span: 100%|██████████| 7743/7743 [00:11<00:00, 683.52it/s]\n",
      "check tok spans: 100%|██████████| 7743/7743 [00:06<00:00, 1253.23it/s]\n"
     ]
    },
    {
     "name": "stdout",
     "output_type": "stream",
     "text": [
      "{'train_data_0.json': {'char_span_error': 0, 'tok_span_error': 0},\n",
      " 'train_data_1.json': {'char_span_error': 0, 'tok_span_error': 0},\n",
      " 'train_data_2.json': {'char_span_error': 0, 'tok_span_error': 0},\n",
      " 'train_data_3.json': {'char_span_error': 0, 'tok_span_error': 0},\n",
      " 'train_data_4.json': {'char_span_error': 0, 'tok_span_error': 0},\n",
      " 'valid_data_0.json': {'char_span_error': 0, 'tok_span_error': 0},\n",
      " 'valid_data_1.json': {'char_span_error': 0, 'tok_span_error': 0},\n",
      " 'valid_data_2.json': {'char_span_error': 0, 'tok_span_error': 0},\n",
      " 'valid_data_3.json': {'char_span_error': 0, 'tok_span_error': 0},\n",
      " 'valid_data_4.json': {'char_span_error': 0, 'tok_span_error': 0}}\n"
     ]
    }
   ],
   "source": [
    "# clean, add char span and tok span\n",
    "# calculate recommended visual field\n",
    "# collect tags\n",
    "tags = set()\n",
    "visual_field_rec = 0\n",
    "error_statistics = {}\n",
    "for file_name, data in file_name2data.items():       \n",
    "    if \"entity_list\" in data[0]: # train or valid\n",
    "        # rm redundant whitespaces\n",
    "        # separate by whitespaces\n",
    "        data = preprocessor.clean_data_wo_span(data, separate = config[\"separate_char_by_white\"])\n",
    "        \n",
    "        # add char span\n",
    "        if config[\"add_char_span\"]:\n",
    "            data, miss_sample_list = preprocessor.add_char_span(data, config[\"ignore_subword\"])\n",
    "            error_statistics[file_name] = {\n",
    "                \"miss_samples\": len(miss_sample_list)\n",
    "            }\n",
    "            \n",
    "        # clean\n",
    "        data, bad_samples = preprocessor.clean_data_w_span(data)\n",
    "        error_statistics[file_name] = {\n",
    "            \"char_span_error\": len(bad_samples)\n",
    "        }\n",
    "        # add tok span\n",
    "        data = preprocessor.add_tok_span(data)\n",
    "\n",
    "        # visual field & tags\n",
    "        for sample in data:\n",
    "            for ent in sample[\"entity_list\"]:\n",
    "                tokens = tokenizer.tokenize(ent[\"text\"])\n",
    "                visual_field_rec = max(visual_field_rec, len(tokens))\n",
    "                tags.add(ent[\"type\"])\n",
    "            \n",
    "        # check tok span\n",
    "        if config[\"check_tok_span\"]:\n",
    "            span_error_memory = check_tok_span(data)\n",
    "            error_statistics[file_name][\"tok_span_error\"] = len(span_error_memory)\n",
    "    # output\n",
    "    output_path = os.path.join(data_out_dir, file_name)\n",
    "    json.dump(data, open(output_path, \"w\", encoding = \"utf-8\"), ensure_ascii = False)\n",
    "pprint(error_statistics)"
   ]
  },
  {
   "cell_type": "code",
   "execution_count": 8,
   "metadata": {},
   "outputs": [],
   "source": [
    "# save meta\n",
    "meta = {\n",
    "    \"tags\": sorted(list(tags)),\n",
    "    \"visual_field_rec\": visual_field_rec,\n",
    "}\n",
    "meta_path = os.path.join(data_out_dir, \"meta.json\")\n",
    "json.dump(meta, open(meta_path, \"w\", encoding = \"utf-8\"), ensure_ascii = False)"
   ]
  },
  {
   "cell_type": "markdown",
   "metadata": {},
   "source": [
    "```\n",
    "# 问一下群里，这种情况是否以原文为准\n",
    "vaginal bacteria --- extr: vaginal bacterial\n",
    "thyroid disease --- extr: thyroid diseases\n",
    "'ori: symptom --- extr: asymptoma'\n",
    "```     "
   ]
  }
 ],
 "metadata": {
  "kernelspec": {
   "display_name": "Python 3",
   "language": "python",
   "name": "python3"
  },
  "language_info": {
   "codemirror_mode": {
    "name": "ipython",
    "version": 3
   },
   "file_extension": ".py",
   "mimetype": "text/x-python",
   "name": "python",
   "nbconvert_exporter": "python",
   "pygments_lexer": "ipython3",
   "version": "3.6.9"
  }
 },
 "nbformat": 4,
 "nbformat_minor": 2
}
