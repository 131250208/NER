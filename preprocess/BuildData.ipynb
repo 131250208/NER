{
 "cells": [
  {
   "cell_type": "code",
   "execution_count": 1,
   "metadata": {},
   "outputs": [],
   "source": [
    "import os\n",
    "import json\n",
    "import re\n",
    "from tqdm import tqdm\n",
    "import copy\n",
    "from ner_common.utils import Preprocessor\n",
    "from transformers import BertTokenizerFast\n",
    "import yaml\n",
    "from pprint import pprint\n",
    "import logging"
   ]
  },
  {
   "cell_type": "code",
   "execution_count": 2,
   "metadata": {},
   "outputs": [],
   "source": [
    "try:\n",
    "    from yaml import CLoader as Loader, CDumper as Dumper\n",
    "except ImportError:\n",
    "    from yaml import Loader, Dumper\n",
    "config = yaml.load(open(\"build_data_config.yaml\", \"r\"), Loader = yaml.FullLoader)"
   ]
  },
  {
   "cell_type": "code",
   "execution_count": 3,
   "metadata": {},
   "outputs": [],
   "source": [
    "exp_name = config[\"exp_name\"]\n",
    "data_in_dir = os.path.join(config[\"data_in_dir\"], exp_name)\n",
    "data_out_dir = os.path.join(config[\"data_out_dir\"], exp_name)\n",
    "if not os.path.exists(data_out_dir):\n",
    "    os.makedirs(data_out_dir)"
   ]
  },
  {
   "cell_type": "code",
   "execution_count": 4,
   "metadata": {},
   "outputs": [],
   "source": [
    "if config[\"encoder\"] == \"BERT\":\n",
    "    bert_path = config[\"bert_path\"]\n",
    "    tokenizer = BertTokenizerFast.from_pretrained(bert_path, add_special_tokens = False, do_lower_case = False)\n",
    "    tokenize = lambda text: tokenizer.tokenize(text)\n",
    "    def get_tok2char_span_map(text):\n",
    "        tok2char_span = tokenizer.encode_plus(text, \n",
    "                                               return_offsets_mapping = True, \n",
    "                                               add_special_tokens = False)[\"offset_mapping\"]\n",
    "        return tok2char_span  \n",
    "elif config[\"encoder\"] == \"BiLSTM\":\n",
    "    tokenize = lambda text: text.split(\" \")\n",
    "    def get_tok2char_span_map(text):\n",
    "        tokens = tokenize(text)\n",
    "        tok2char_span = []\n",
    "        char_num = 0\n",
    "        for tok in tokens:\n",
    "            tok2char_span.append((char_num, char_num + len(tok)))\n",
    "            char_num += len(tok) + 1 # +1: whitespace\n",
    "        return tok2char_span"
   ]
  },
  {
   "cell_type": "code",
   "execution_count": 5,
   "metadata": {},
   "outputs": [],
   "source": [
    "# preprocessor\n",
    "preprocessor = Preprocessor(tokenize, get_tok2char_span_map)"
   ]
  },
  {
   "cell_type": "code",
   "execution_count": 6,
   "metadata": {},
   "outputs": [],
   "source": [
    "# check tok span\n",
    "def check_tok_span(data):\n",
    "    entities_to_fix = []\n",
    "    for sample in tqdm(data, desc = \"check tok spans\"):\n",
    "        text = sample[\"text\"]\n",
    "        tok2char_span = get_tok2char_span_map(text)\n",
    "        for ent in sample[\"entity_list\"]:\n",
    "            tok_span = ent[\"tok_span\"]\n",
    "            char_span_list = tok2char_span[tok_span[0]:tok_span[1]]\n",
    "            char_span = [char_span_list[0][0], char_span_list[-1][1]]\n",
    "            text_extr = text[char_span[0]:char_span[1]]\n",
    "            gold_char_span = ent[\"char_span\"]\n",
    "            if not(char_span[0] == gold_char_span[0] and char_span[1] == gold_char_span[1] and text_extr == ent[\"text\"]):\n",
    "                bad_ent = copy.deepcopy(ent)\n",
    "                bad_ent[\"text_extr\"] = text_extr\n",
    "                entities_to_fix.append(bad_ent)\n",
    "    \n",
    "    span_error_memory = set()\n",
    "    for ent in entities_to_fix:\n",
    "        err_mem = \"gold: {} --- extr: {}\".format(ent[\"text\"], ent[\"text_extr\"])\n",
    "        span_error_memory.add(err_mem)\n",
    "    return span_error_memory"
   ]
  },
  {
   "cell_type": "code",
   "execution_count": 7,
   "metadata": {},
   "outputs": [
    {
     "name": "stderr",
     "output_type": "stream",
     "text": [
      "loading data: 100%|██████████| 3/3 [00:00<00:00,  6.07it/s]\n",
      "loading data: 0it [00:00, ?it/s]\n"
     ]
    }
   ],
   "source": [
    "# load data\n",
    "file_name2data = {}\n",
    "for root, dirs, files in os.walk(data_in_dir):\n",
    "    for file_name in tqdm(files, desc = \"loading data\"):\n",
    "        file_path = os.path.join(root, file_name)\n",
    "        data = json.load(open(file_path, \"r\", encoding = \"utf-8\"))\n",
    "        assert len(data) > 0\n",
    "        file_name2data[file_name] = data"
   ]
  },
  {
   "cell_type": "code",
   "execution_count": 8,
   "metadata": {
    "scrolled": true
   },
   "outputs": [
    {
     "name": "stderr",
     "output_type": "stream",
     "text": [
      "Adding token level span: 100%|██████████| 15022/15022 [00:03<00:00, 4578.13it/s]\n",
      "check tok spans: 100%|██████████| 15022/15022 [00:02<00:00, 7001.65it/s]\n",
      "Adding token level span: 100%|██████████| 1855/1855 [00:00<00:00, 3930.60it/s]\n",
      "check tok spans: 100%|██████████| 1855/1855 [00:00<00:00, 4425.65it/s]\n",
      "Adding token level span: 100%|██████████| 1669/1669 [00:00<00:00, 4053.08it/s]\n",
      "check tok spans: 100%|██████████| 1669/1669 [00:00<00:00, 7075.54it/s]\n"
     ]
    },
    {
     "name": "stdout",
     "output_type": "stream",
     "text": [
      "{'test_data.json': {'tok_span_error': 0},\n",
      " 'train_data.json': {'tok_span_error': 0},\n",
      " 'valid_data.json': {'tok_span_error': 0}}\n"
     ]
    }
   ],
   "source": [
    "# clean, add char span and tok span\n",
    "# calculate recommended visual field\n",
    "# collect tags\n",
    "tags = set()\n",
    "visual_field_rec = 0\n",
    "error_statistics = {}\n",
    "for file_name, data in file_name2data.items():       \n",
    "    if \"entity_list\" in data[0]: # train or valid\n",
    "        error_statistics[file_name] = {}\n",
    "        # rm redundant whitespaces\n",
    "        # separate by whitespaces\n",
    "        # clean without span\n",
    "        if config[\"clean_wo_span\"]:\n",
    "            data = preprocessor.clean_data_wo_span(data, separate = config[\"separate_char_by_white\"])\n",
    "        \n",
    "        # add char span\n",
    "        if config[\"add_char_span\"]:\n",
    "            data, miss_sample_list = preprocessor.add_char_span(data, config[\"ignore_subword\"])\n",
    "            error_statistics[file_name][\"miss_samples\"] = len(miss_sample_list)\n",
    "            \n",
    "        # clean with span\n",
    "        if config[\"clean_w_span\"]:\n",
    "            data, bad_samples = preprocessor.clean_data_w_span(data)\n",
    "            error_statistics[file_name][\"char_span_error\"] = len(bad_samples)\n",
    "        \n",
    "        # add tok span\n",
    "        data = preprocessor.add_tok_span(data)\n",
    "\n",
    "        # visual field & tags\n",
    "        for sample in data:\n",
    "            for ent in sample[\"entity_list\"]:\n",
    "                tokens = tokenize(ent[\"text\"])\n",
    "                visual_field_rec = max(visual_field_rec, len(tokens))\n",
    "                tags.add(ent[\"type\"])\n",
    "            \n",
    "        # check tok span\n",
    "        if config[\"check_tok_span\"]:\n",
    "            span_error_memory = check_tok_span(data)\n",
    "            error_statistics[file_name][\"tok_span_error\"] = len(span_error_memory)\n",
    "    # output\n",
    "    output_path = os.path.join(data_out_dir, file_name)\n",
    "    json.dump(data, open(output_path, \"w\", encoding = \"utf-8\"), ensure_ascii = False)\n",
    "pprint(error_statistics)"
   ]
  },
  {
   "cell_type": "code",
   "execution_count": 9,
   "metadata": {},
   "outputs": [],
   "source": [
    "# have a look at tok span error\n",
    "# for file_name, data in file_name2data.items():\n",
    "#     span_error_memory = check_tok_span(data)\n",
    "#     print(span_error_memory)"
   ]
  },
  {
   "cell_type": "code",
   "execution_count": 10,
   "metadata": {},
   "outputs": [],
   "source": [
    "# save meta\n",
    "meta = {\n",
    "    \"tags\": sorted(list(tags)),\n",
    "    \"visual_field_rec\": visual_field_rec,\n",
    "}\n",
    "meta_path = os.path.join(data_out_dir, \"meta.json\")\n",
    "json.dump(meta, open(meta_path, \"w\", encoding = \"utf-8\"), ensure_ascii = False)"
   ]
  },
  {
   "cell_type": "code",
   "execution_count": 11,
   "metadata": {},
   "outputs": [],
   "source": [
    "if config[\"encoder\"] in {\"BiLSTM\", }:\n",
    "    freq_threshold = 5\n",
    "    max_tok_size = 50000\n",
    "    \n",
    "    all_data = []\n",
    "    for data in list(file_name2data.values()):\n",
    "        all_data.extend(data)\n",
    "        \n",
    "    token2num = {}\n",
    "    for sample in tqdm(all_data, desc = \"Tokenizing\"):\n",
    "        text = sample['text']\n",
    "        for tok in tokenize(text):\n",
    "            token2num[tok] = token2num.get(tok, 0) + 1\n",
    "\n",
    "    token_set = set()\n",
    "    token2num_filtered = {}\n",
    "    for tok, num in tqdm(token2num.items(), desc = \"Filter uncommon words\"):\n",
    "        if num < freq_threshold: # filter words with a frequency of less than freq_threshold\n",
    "            continue\n",
    "        token2num_filtered[tok] = num\n",
    "        \n",
    "    token2num_tuples = sorted(token2num_filtered.items(), key = lambda it: it[1], reverse = True)[:max_tok_size]\n",
    "    filtered_tokens = [tok for tok, num in token2num_tuples]\n",
    "    \n",
    "    token2idx = {tok:idx + 2 for idx, tok in enumerate(sorted(filtered_tokens))}\n",
    "    token2idx[\"<PAD>\"] = 0\n",
    "    token2idx[\"<UNK>\"] = 1\n",
    "#     idx2token = {idx:tok for tok, idx in token2idx.items()}\n",
    "    \n",
    "    dict_path = os.path.join(data_out_dir, \"token2idx.json\")\n",
    "    json.dump(token2idx, open(dict_path, \"w\", encoding = \"utf-8\"), ensure_ascii = False, indent = 4)\n",
    "    logging.info(\"token2idx is output to {}, total token num: {}\".format(dict_path, len(token2idx))) "
   ]
  }
 ],
 "metadata": {
  "kernelspec": {
   "display_name": "Python 3",
   "language": "python",
   "name": "python3"
  },
  "language_info": {
   "codemirror_mode": {
    "name": "ipython",
    "version": 3
   },
   "file_extension": ".py",
   "mimetype": "text/x-python",
   "name": "python",
   "nbconvert_exporter": "python",
   "pygments_lexer": "ipython3",
   "version": "3.6.9"
  }
 },
 "nbformat": 4,
 "nbformat_minor": 2
}
