{
 "cells": [
  {
   "cell_type": "code",
   "execution_count": null,
   "metadata": {},
   "outputs": [],
   "source": [
    "import os\n",
    "import json\n",
    "import re\n",
    "from tqdm import tqdm\n",
    "import copy\n",
    "from ner_common.utils import Preprocessor, WordTokenizer\n",
    "from transformers import BertTokenizerFast\n",
    "import yaml\n",
    "from pprint import pprint\n",
    "import logging"
   ]
  },
  {
   "cell_type": "code",
   "execution_count": null,
   "metadata": {},
   "outputs": [],
   "source": [
    "try:\n",
    "    from yaml import CLoader as Loader, CDumper as Dumper\n",
    "except ImportError:\n",
    "    from yaml import Loader, Dumper\n",
    "config = yaml.load(open(\"build_data_config.yaml\", \"r\"), Loader = yaml.FullLoader)"
   ]
  },
  {
   "cell_type": "code",
   "execution_count": null,
   "metadata": {},
   "outputs": [],
   "source": [
    "exp_name = config[\"exp_name\"]\n",
    "data_in_dir = os.path.join(config[\"data_in_dir\"], exp_name)\n",
    "token_type = config[\"token_type\"]\n",
    "bert_path = config[\"bert_path\"]\n",
    "if token_type == \"subword\":\n",
    "    data_out_dir = os.path.join(\"../data/{}\".format(bert_path.split(\"/\")[-1]), exp_name)\n",
    "elif token_type == \"word\":\n",
    "    data_out_dir = os.path.join(config[\"data_out_dir\"], exp_name)\n",
    "    \n",
    "if not os.path.exists(data_out_dir):\n",
    "    os.makedirs(data_out_dir)"
   ]
  },
  {
   "cell_type": "code",
   "execution_count": null,
   "metadata": {},
   "outputs": [],
   "source": [
    "# preprocessor\n",
    "bert_tokenizer = BertTokenizerFast.from_pretrained(bert_path, add_special_tokens = False, do_lower_case = False)\n",
    "word_tokenizer = WordTokenizer()\n",
    "\n",
    "preprocessor = Preprocessor(bert_tokenizer, token_type) if token_type == \"subword\" else Preprocessor(word_tokenizer, token_type)"
   ]
  },
  {
   "cell_type": "code",
   "execution_count": null,
   "metadata": {},
   "outputs": [],
   "source": [
    "# load data\n",
    "file_name2data = {}\n",
    "for root, dirs, files in os.walk(data_in_dir):\n",
    "    for file_name in tqdm(files, desc = \"loading data\"):\n",
    "        file_path = os.path.join(root, file_name)\n",
    "        data = json.load(open(file_path, \"r\", encoding = \"utf-8\"))\n",
    "        assert len(data) > 0\n",
    "        file_name2data[file_name] = data"
   ]
  },
  {
   "cell_type": "code",
   "execution_count": null,
   "metadata": {
    "scrolled": true
   },
   "outputs": [],
   "source": [
    "# clean, add char span and tok span\n",
    "# calculate recommended visual field\n",
    "# collect tags\n",
    "tags = set()\n",
    "visual_field_rec = 0\n",
    "error_statistics = {}\n",
    "for file_name, data in file_name2data.items():       \n",
    "    if \"data\" in file_name and \"entity_list\" in data[0]: # train or valid\n",
    "        error_statistics[file_name] = {}\n",
    "        # rm redundant whitespaces\n",
    "        # separate by whitespaces\n",
    "        # clean without span\n",
    "        if config[\"clean_wo_span\"]:\n",
    "            data = preprocessor.clean_data_wo_span(data, separate = config[\"separate_char_by_white\"])\n",
    "        \n",
    "        # add char span\n",
    "        if config[\"add_char_span\"]:\n",
    "            data, samples_w_wrong_entity = preprocessor.add_char_span(data, config[\"ignore_subword\"])\n",
    "            error_statistics[file_name][\"samples_w_wrong_entity\"] = {\"num\": len(samples_w_wrong_entity), \"detail\": samples_w_wrong_entity}\n",
    "            \n",
    "        # clean with span\n",
    "        if config[\"clean_w_span\"]:\n",
    "            data, bad_samples = preprocessor.clean_data_w_span(data)\n",
    "            error_statistics[file_name][\"char_span_error\"] = len(bad_samples)\n",
    "        \n",
    "        # add tok span\n",
    "        data = preprocessor.add_tok_span(data)\n",
    "\n",
    "        # visual field & tags\n",
    "        for sample in data:\n",
    "            for ent in sample[\"entity_list\"]:\n",
    "                tokens = preprocessor.tokenize(ent[\"text\"])\n",
    "                visual_field_rec = max(visual_field_rec, len(tokens))\n",
    "                tags.add(ent[\"type\"])\n",
    "            \n",
    "        # check tok span\n",
    "        if config[\"check_tok_span\"]:\n",
    "            tok_span_error_memory = preprocessor.check_tok_span(data)\n",
    "            error_statistics[file_name][\"tok_span_error\"] = {\"num\": len(tok_span_error_memory), \"detail\": tok_span_error_memory}\n",
    "    # output\n",
    "    output_path = os.path.join(data_out_dir, file_name)\n",
    "    json.dump(data, open(output_path, \"w\", encoding = \"utf-8\"), ensure_ascii = False)\n",
    "    print(\"{} is output to {}, num: {}\".format(file_name, output_path, len(data)))\n",
    "pprint(error_statistics)"
   ]
  },
  {
   "cell_type": "code",
   "execution_count": null,
   "metadata": {},
   "outputs": [],
   "source": [
    "# have a look at tok span error\n",
    "# for file_name, data in file_name2data.items():\n",
    "#     span_error_memory = check_tok_span(data)\n",
    "#     print(span_error_memory)"
   ]
  },
  {
   "cell_type": "markdown",
   "metadata": {},
   "source": [
    "# meta"
   ]
  },
  {
   "cell_type": "code",
   "execution_count": null,
   "metadata": {},
   "outputs": [],
   "source": [
    "meta = {\n",
    "    \"tags\": sorted(list(tags)),\n",
    "    \"visual_field_rec\": visual_field_rec,\n",
    "}\n",
    "meta_path = os.path.join(data_out_dir, \"meta.json\")\n",
    "json.dump(meta, open(meta_path, \"w\", encoding = \"utf-8\"), ensure_ascii = False)\n",
    "print(\"meta.json is output to {}\".format(meta_path))"
   ]
  },
  {
   "cell_type": "markdown",
   "metadata": {},
   "source": [
    "# Generate word dict and char dict"
   ]
  },
  {
   "cell_type": "code",
   "execution_count": null,
   "metadata": {},
   "outputs": [],
   "source": [
    "# work only if tok_size > max_tok_size\n",
    "freq_threshold = 3\n",
    "max_tok_size = 35000\n",
    "\n",
    "all_data = []\n",
    "for filename, data in file_name2data.items():\n",
    "    if \"data\" in filename:\n",
    "        all_data.extend(data)\n",
    "\n",
    "char_set = set()\n",
    "word2num = {}\n",
    "\n",
    "word_tokenize = lambda text: text.split(\" \")\n",
    "for sample in tqdm(all_data, desc = \"Word Tokenizing\"):\n",
    "    text = sample['text']\n",
    "    char_set |= set(text)\n",
    "    for tok in word_tokenize(text):\n",
    "        word2num[tok] = word2num.get(tok, 0) + 1\n",
    "\n",
    "word2num_filtered = {}\n",
    "for tok, num in tqdm(word2num.items(), desc = \"Filter uncommon words\"):\n",
    "    if len(word2num) > max_tok_size and num < freq_threshold: # filter words with a frequency of less than freq_threshold\n",
    "        continue\n",
    "    word2num_filtered[tok] = num\n",
    "\n",
    "word2num_tuples = sorted(word2num_filtered.items(), key = lambda it: it[1], reverse = True)[:max_tok_size]\n",
    "filtered_tokens = [tok for tok, num in word2num_tuples]\n",
    "\n",
    "char2idx = {char:idx + 2 for idx, char in enumerate(sorted(char_set))}\n",
    "word2idx = {tok:idx + 2 for idx, tok in enumerate(sorted(filtered_tokens))}\n",
    "word2idx[\"<PAD>\"] = 0\n",
    "word2idx[\"<UNK>\"] = 1\n",
    "char2idx[\"<PAD>\"] = 0\n",
    "char2idx[\"<UNK>\"] = 1\n",
    "#     idx2token = {idx:tok for tok, idx in word2idx.items()}\n",
    "\n",
    "word_dict_path = os.path.join(data_out_dir, \"word2idx.json\")\n",
    "json.dump(word2idx, open(word_dict_path, \"w\", encoding = \"utf-8\"), ensure_ascii = False, indent = 4)\n",
    "print(\"word2idx is output to {}, total token num: {}\".format(word_dict_path, len(word2idx)))\n",
    "\n",
    "char_dict_path = os.path.join(data_out_dir, \"char2idx.json\")\n",
    "json.dump(char2idx, open(char_dict_path, \"w\", encoding = \"utf-8\"), ensure_ascii = False, indent = 4)\n",
    "print(\"char2idx is output to {}, total token num: {}\".format(char_dict_path, len(char2idx)))"
   ]
  }
 ],
 "metadata": {
  "kernelspec": {
   "display_name": "Python 3",
   "language": "python",
   "name": "python3"
  },
  "language_info": {
   "codemirror_mode": {
    "name": "ipython",
    "version": 3
   },
   "file_extension": ".py",
   "mimetype": "text/x-python",
   "name": "python",
   "nbconvert_exporter": "python",
   "pygments_lexer": "ipython3",
   "version": "3.6.9"
  }
 },
 "nbformat": 4,
 "nbformat_minor": 2
}
